{
 "cells": [
  {
   "cell_type": "markdown",
   "metadata": {},
   "source": [
    "### 标记\n",
    "##### 排序"
   ]
  },
  {
   "cell_type": "code",
   "execution_count": 1,
   "metadata": {},
   "outputs": [
    {
     "data": {
      "text/plain": [
       "[1, 2, 3, 5, 7]"
      ]
     },
     "execution_count": 1,
     "metadata": {},
     "output_type": "execute_result"
    }
   ],
   "source": [
    "a = [7, 2, 5, 1, 3]\n",
    "a.sort()\n",
    "a\n",
    "# 不创建新的对象"
   ]
  },
  {
   "cell_type": "markdown",
   "metadata": {},
   "source": [
    "使用key二级排序，reverse控制反转排序"
   ]
  },
  {
   "cell_type": "code",
   "execution_count": 2,
   "metadata": {},
   "outputs": [
    {
     "data": {
      "text/plain": [
       "['He', 'saw', 'six', 'small', 'foxes']"
      ]
     },
     "execution_count": 2,
     "metadata": {},
     "output_type": "execute_result"
    }
   ],
   "source": [
    "b = ['saw', 'small', 'He', 'foxes', 'six']\n",
    "b.sort(key=len)\n",
    "b"
   ]
  },
  {
   "cell_type": "code",
   "execution_count": 3,
   "metadata": {},
   "outputs": [
    {
     "data": {
      "text/plain": [
       "['small', 'foxes', 'saw', 'six', 'He']"
      ]
     },
     "execution_count": 3,
     "metadata": {},
     "output_type": "execute_result"
    }
   ],
   "source": [
    "b = ['saw', 'small', 'He', 'foxes', 'six']\n",
    "b.sort(key=len,reverse=True)\n",
    "b"
   ]
  },
  {
   "cell_type": "markdown",
   "metadata": {},
   "source": [
    "bisect模块支持二分查找，和向已排序的列表插入值。bisect.bisect可以找到插\n",
    "入值后仍保证排序的位置，bisect.insort是向这个位置插入值"
   ]
  },
  {
   "cell_type": "code",
   "execution_count": 9,
   "metadata": {},
   "outputs": [
    {
     "name": "stdout",
     "output_type": "stream",
     "text": [
      "4\n",
      "2\n"
     ]
    },
    {
     "data": {
      "text/plain": [
       "[1, 2, 2, 2, 3, 4, 7]"
      ]
     },
     "execution_count": 9,
     "metadata": {},
     "output_type": "execute_result"
    }
   ],
   "source": [
    "import bisect\n",
    "# c表已排序\n",
    "c = [1, 2, 2, 2, 3, 4, 7]\n",
    "print(bisect.bisect(c,2))\n",
    "print(c[bisect.bisect(c,2)-1])\n",
    "c\n"
   ]
  },
  {
   "cell_type": "code",
   "execution_count": 11,
   "metadata": {},
   "outputs": [
    {
     "name": "stdout",
     "output_type": "stream",
     "text": [
      "4\n"
     ]
    }
   ],
   "source": [
    "bisect.bisect(c, 5)\n",
    "print(c[bisect.bisect(c, 5)-1])"
   ]
  },
  {
   "cell_type": "markdown",
   "metadata": {},
   "source": [
    "#### sorted函数"
   ]
  },
  {
   "cell_type": "code",
   "execution_count": 12,
   "metadata": {},
   "outputs": [
    {
     "name": "stdout",
     "output_type": "stream",
     "text": [
      "[0, 1, 2, 2, 3, 6, 7]\n",
      "[' ', 'a', 'c', 'e', 'e', 'h', 'o', 'r', 'r', 's']\n"
     ]
    }
   ],
   "source": [
    "# 返回一个新的排好序的列表\n",
    "res = sorted([7, 1, 2, 6, 0, 3, 2])\n",
    "print(res)\n",
    "res = sorted('horse race')\n",
    "print(res)"
   ]
  },
  {
   "cell_type": "markdown",
   "metadata": {},
   "source": [
    "### zip函数\n",
    "- zip可以将多个列表、元组或其它序列成对组合成一个元组列表\n",
    "* 可以处理任意多的序列，元素的个数取决于最短的序列"
   ]
  },
  {
   "cell_type": "code",
   "execution_count": 13,
   "metadata": {},
   "outputs": [
    {
     "data": {
      "text/plain": [
       "[('foo', 'one'), ('bar', 'two'), ('baz', 'three')]"
      ]
     },
     "execution_count": 13,
     "metadata": {},
     "output_type": "execute_result"
    }
   ],
   "source": [
    "seq1 = ['foo', 'bar', 'baz']\n",
    "seq2 = ['one', 'two', 'three']\n",
    "zipped = zip(seq1, seq2)\n",
    "list(zipped)"
   ]
  },
  {
   "cell_type": "code",
   "execution_count": 14,
   "metadata": {},
   "outputs": [
    {
     "name": "stdout",
     "output_type": "stream",
     "text": [
      "[('foo', 'one', False), ('bar', 'two', True)]\n"
     ]
    }
   ],
   "source": [
    "seq3 = [False, True]\n",
    "res = list(zip(seq1, seq2, seq3))\n",
    "print(res)"
   ]
  },
  {
   "cell_type": "markdown",
   "metadata": {},
   "source": [
    "- zip的常见用法之一是同时迭代多个序列，可能结合enumerate使用"
   ]
  },
  {
   "cell_type": "code",
   "execution_count": 15,
   "metadata": {},
   "outputs": [
    {
     "name": "stdout",
     "output_type": "stream",
     "text": [
      "0: foo, one\n",
      "1: bar, two\n",
      "2: baz, three\n"
     ]
    }
   ],
   "source": [
    "for i, (a, b) in enumerate(zip(seq1, seq2)):\n",
    "    print('{0}: {1}, {2}'.format(i, a, b))"
   ]
  },
  {
   "cell_type": "markdown",
   "metadata": {},
   "source": [
    "- 给出一个“被压缩的”序列，zip可以被用来解压序列。也可以当作把行的列表转换为列的列表。这个方法看起来有点神奇："
   ]
  },
  {
   "cell_type": "code",
   "execution_count": 16,
   "metadata": {},
   "outputs": [
    {
     "name": "stdout",
     "output_type": "stream",
     "text": [
      "('Nolan', 'Roger', 'Schilling')\n",
      "('Ryan', 'Clemens', 'Curt')\n"
     ]
    }
   ],
   "source": [
    "pitchers = [('Nolan', 'Ryan'), ('Roger', 'Clemens'),\n",
    "            ('Schilling', 'Curt')]\n",
    "first_names, last_names = zip(*pitchers)\n",
    "print(first_names)\n",
    "print(last_names)"
   ]
  },
  {
   "cell_type": "markdown",
   "metadata": {},
   "source": [
    "## dict"
   ]
  },
  {
   "cell_type": "code",
   "execution_count": 17,
   "metadata": {},
   "outputs": [
    {
     "data": {
      "text/plain": [
       "{'a': 'some value', 'b': [1, 2, 3, 4]}"
      ]
     },
     "execution_count": 17,
     "metadata": {},
     "output_type": "execute_result"
    }
   ],
   "source": [
    "empty_dict = {}\n",
    "d1 = {'a' : 'some value', 'b' : [1, 2, 3, 4]}\n",
    "d1"
   ]
  },
  {
   "cell_type": "code",
   "execution_count": 19,
   "metadata": {},
   "outputs": [
    {
     "name": "stdout",
     "output_type": "stream",
     "text": [
      "{'a': 'some value', 'b': [1, 2, 3, 4], 7: 'an integer'}\n"
     ]
    },
    {
     "data": {
      "text/plain": [
       "[1, 2, 3, 4]"
      ]
     },
     "execution_count": 19,
     "metadata": {},
     "output_type": "execute_result"
    }
   ],
   "source": [
    "d1[7] = 'an integer'\n",
    "print(d1)\n",
    "d1['b']"
   ]
  },
  {
   "cell_type": "code",
   "execution_count": 20,
   "metadata": {},
   "outputs": [
    {
     "data": {
      "text/plain": [
       "True"
      ]
     },
     "execution_count": 20,
     "metadata": {},
     "output_type": "execute_result"
    }
   ],
   "source": [
    "'b' in d1"
   ]
  },
  {
   "cell_type": "code",
   "execution_count": 21,
   "metadata": {},
   "outputs": [
    {
     "name": "stdout",
     "output_type": "stream",
     "text": [
      "{'a': 'some value', 'b': [1, 2, 3, 4], 5: 'some value', 7: 'an integer'}\n",
      "{'a': 'some value', 'b': [1, 2, 3, 4], 5: 'some value', 'dummy': 'another value', 7: 'an integer'}\n",
      "{'a': 'some value', 'b': [1, 2, 3, 4], 'dummy': 'another value', 7: 'an integer'}\n",
      "another value\n",
      "{'a': 'some value', 'b': [1, 2, 3, 4], 7: 'an integer'}\n"
     ]
    }
   ],
   "source": [
    "d1[5] = 'some value'\n",
    "print(d1)\n",
    "d1['dummy'] = 'another value'\n",
    "print(d1)\n",
    "del d1[5]\n",
    "print(d1)\n",
    "# pop方法（返回值的同时删除键）\n",
    "ret = d1.pop('dummy')\n",
    "print(ret)\n",
    "print(d1)"
   ]
  },
  {
   "cell_type": "markdown",
   "metadata": {},
   "source": [
    "- 用update方法可以将一个字典与另一个融合\n",
    "- update方法是原地改变字典，因此任何传递给update的键的旧的值都会被舍弃"
   ]
  },
  {
   "cell_type": "code",
   "execution_count": 25,
   "metadata": {},
   "outputs": [
    {
     "name": "stdout",
     "output_type": "stream",
     "text": [
      "{'c': 12, 7: 'an integer', 'a': 'some value', 'b': 'foo'}\n",
      "{'c': 12, 7: 'an integer', 'a': 'some value', 'b': 'foo'}\n"
     ]
    }
   ],
   "source": [
    "print(d1)\n",
    "d1.update({'b' : 'foo', 'c' : 12})\n",
    "print(d1)"
   ]
  },
  {
   "cell_type": "markdown",
   "metadata": {},
   "source": [
    "- dict的方法get和pop可以取默认值进行返回"
   ]
  },
  {
   "cell_type": "raw",
   "metadata": {},
   "source": [
    "value = some_dict.get(key, default_value)"
   ]
  },
  {
   "cell_type": "code",
   "execution_count": 27,
   "metadata": {},
   "outputs": [
    {
     "data": {
      "text/plain": [
       "{'a': [], 'b': []}"
      ]
     },
     "execution_count": 27,
     "metadata": {},
     "output_type": "execute_result"
    }
   ],
   "source": [
    "words = ['apple', 'bat', 'bar', 'atom', 'book']\n",
    "by_letter = {}\n",
    "for word in words:\n",
    "    letter = word[0]\n",
    "#     by_letter.setdefault(letter, []).append(word)\n",
    "    by_letter.setdefault(letter, [])\n",
    "by_letter"
   ]
  },
  {
   "cell_type": "markdown",
   "metadata": {},
   "source": [
    "## 嵌套列表推导式"
   ]
  },
  {
   "cell_type": "code",
   "execution_count": 28,
   "metadata": {},
   "outputs": [],
   "source": [
    "all_data = [['John', 'Emily', 'Michael', 'Mary', 'Steven'],\n",
    "            ['Maria', 'Juan', 'Javier', 'Natalia', 'Pilar']]"
   ]
  },
  {
   "cell_type": "code",
   "execution_count": 29,
   "metadata": {},
   "outputs": [
    {
     "data": {
      "text/plain": [
       "['Steven']"
      ]
     },
     "execution_count": 29,
     "metadata": {},
     "output_type": "execute_result"
    }
   ],
   "source": [
    "result = [name for names in all_data for name in names\n",
    "          if name.count('e') >= 2]\n",
    "result"
   ]
  },
  {
   "cell_type": "code",
   "execution_count": 30,
   "metadata": {},
   "outputs": [
    {
     "data": {
      "text/plain": [
       "[1, 2, 3, 4, 5, 6, 7, 8, 9]"
      ]
     },
     "execution_count": 30,
     "metadata": {},
     "output_type": "execute_result"
    }
   ],
   "source": [
    "some_tuples = [(1, 2, 3), (4, 5, 6), (7, 8, 9)]\n",
    "flattened = [x for tup in some_tuples for x in tup]\n",
    "flattened"
   ]
  },
  {
   "cell_type": "markdown",
   "metadata": {},
   "source": [
    "# 函数"
   ]
  },
  {
   "cell_type": "code",
   "execution_count": 31,
   "metadata": {},
   "outputs": [],
   "source": [
    "states = ['   Alabama ', 'Georgia!', 'Georgia', 'georgia', 'FlOrIda',\n",
    "          'south   carolina##', 'West virginia?']"
   ]
  },
  {
   "cell_type": "code",
   "execution_count": 42,
   "metadata": {},
   "outputs": [
    {
     "data": {
      "text/plain": [
       "['Alabama',\n",
       " 'Georgia!',\n",
       " 'Georgia',\n",
       " 'Georgia',\n",
       " 'Florida',\n",
       " 'South   Carolina',\n",
       " 'West Virginia']"
      ]
     },
     "execution_count": 42,
     "metadata": {},
     "output_type": "execute_result"
    }
   ],
   "source": [
    "import re\n",
    "\n",
    "def clean_str(strings):\n",
    "    for i in range(len(strings)):\n",
    "        str = strings[i]\n",
    "        str = str.strip()\n",
    "        str = re.sub(\"[@#?]\",\"\",str)        \n",
    "        str = str.title()        \n",
    "        strings[i] = str           \n",
    "clean_str(states)  \n",
    "res"
   ]
  },
  {
   "cell_type": "markdown",
   "metadata": {},
   "source": [
    "- 还有另外一种不错的办法：将需要在一组给定字符串上执行的所有运算做成一个列表"
   ]
  },
  {
   "cell_type": "code",
   "execution_count": 43,
   "metadata": {},
   "outputs": [],
   "source": [
    "states = ['   Alabama ', 'Georgia!', 'Georgia', 'georgia', 'FlOrIda',\n",
    "          'south   carolina##', 'West virginia?']\n",
    "def remove_punctuation(value):\n",
    "    return re.sub('[!#?]', '', value)\n",
    "\n",
    "clean_ops = [str.strip, remove_punctuation, str.title]\n",
    "\n",
    "def clean_strings(strings, ops):\n",
    "    result = []\n",
    "    for value in strings:\n",
    "        for function in ops:\n",
    "            value = function(value)\n",
    "        result.append(value)\n",
    "    return result"
   ]
  },
  {
   "cell_type": "code",
   "execution_count": 44,
   "metadata": {},
   "outputs": [
    {
     "data": {
      "text/plain": [
       "['Alabama',\n",
       " 'Georgia',\n",
       " 'Georgia',\n",
       " 'Georgia',\n",
       " 'Florida',\n",
       " 'South   Carolina',\n",
       " 'West Virginia']"
      ]
     },
     "execution_count": 44,
     "metadata": {},
     "output_type": "execute_result"
    }
   ],
   "source": [
    "clean_strings(states, clean_ops)"
   ]
  },
  {
   "cell_type": "code",
   "execution_count": 46,
   "metadata": {},
   "outputs": [
    {
     "name": "stdout",
     "output_type": "stream",
     "text": [
      "   Alabama \n",
      "Georgia\n",
      "Georgia\n",
      "georgia\n",
      "FlOrIda\n",
      "south   carolina\n",
      "West virginia\n"
     ]
    }
   ],
   "source": [
    "states = ['   Alabama ', 'Georgia!', 'Georgia', 'georgia', 'FlOrIda',\n",
    "          'south   carolina##', 'West virginia?']\n",
    "for x in map(remove_punctuation, states):\n",
    "    print(x)"
   ]
  },
  {
   "cell_type": "markdown",
   "metadata": {},
   "source": [
    "### Anonymous (Lambda) Functions"
   ]
  },
  {
   "cell_type": "code",
   "execution_count": 47,
   "metadata": {},
   "outputs": [
    {
     "data": {
      "text/plain": [
       "['aaaa', 'foo', 'abab', 'bar', 'card']"
      ]
     },
     "execution_count": 47,
     "metadata": {},
     "output_type": "execute_result"
    }
   ],
   "source": [
    "# 按照不重复字母数量排序\n",
    "strings = ['foo', 'card', 'bar', 'aaaa', 'abab']\n",
    "strings.sort(key=lambda x: len(set(list(x))))\n",
    "strings"
   ]
  },
  {
   "cell_type": "markdown",
   "metadata": {},
   "source": [
    "### 柯里化：部分参数应用\n",
    "- 柯里化（currying）是一个有趣的计算机科学术语，它指的是通过“部分参数应用”（partial argument application）从现有函数派生出新函数的技术。例如，假设我们有一个执行两数相加的简单函数"
   ]
  },
  {
   "cell_type": "code",
   "execution_count": 48,
   "metadata": {},
   "outputs": [
    {
     "data": {
      "text/plain": [
       "28"
      ]
     },
     "execution_count": 48,
     "metadata": {},
     "output_type": "execute_result"
    }
   ],
   "source": [
    "def add_numbers(x, y):\n",
    "    return x + y\n",
    "add_five = lambda y: add_numbers(5, y)\n",
    "add_five(23)"
   ]
  },
  {
   "cell_type": "code",
   "execution_count": 49,
   "metadata": {},
   "outputs": [
    {
     "data": {
      "text/plain": [
       "27"
      ]
     },
     "execution_count": 49,
     "metadata": {},
     "output_type": "execute_result"
    }
   ],
   "source": [
    "from functools import partial\n",
    "add_five = partial(add_numbers, 5)\n",
    "add_five(22)"
   ]
  },
  {
   "cell_type": "markdown",
   "metadata": {},
   "source": [
    "#### Generator expresssions"
   ]
  },
  {
   "cell_type": "code",
   "execution_count": 50,
   "metadata": {},
   "outputs": [
    {
     "data": {
      "text/plain": [
       "<generator object <genexpr> at 0x0000000004EB83B8>"
      ]
     },
     "execution_count": 50,
     "metadata": {},
     "output_type": "execute_result"
    }
   ],
   "source": [
    "gen = (x ** 2 for x in range(100))\n",
    "gen"
   ]
  },
  {
   "cell_type": "markdown",
   "metadata": {},
   "source": [
    "### itertools模块\n",
    "- 标准库itertools模块中有一组用于许多常见数据算法的生成器。例如，groupby可以接受任何序列和一个函数。它根据函数的返回值对序列中的连续元素进行分组。"
   ]
  },
  {
   "cell_type": "code",
   "execution_count": 51,
   "metadata": {},
   "outputs": [
    {
     "name": "stdout",
     "output_type": "stream",
     "text": [
      "A ['Alan', 'Adam']\n",
      "W ['Wes', 'Will']\n",
      "A ['Albert']\n",
      "S ['Steven']\n"
     ]
    }
   ],
   "source": [
    "import itertools\n",
    "first_letter = lambda x: x[0]\n",
    "names = ['Alan', 'Adam', 'Wes', 'Will', 'Albert', 'Steven']\n",
    "for letter, names in itertools.groupby(names, first_letter):\n",
    "    print(letter, list(names)) # names is a generator"
   ]
  },
  {
   "cell_type": "markdown",
   "metadata": {},
   "source": [
    "- combinations生成1个K元元祖，不考虑顺序"
   ]
  },
  {
   "cell_type": "code",
   "execution_count": 53,
   "metadata": {},
   "outputs": [
    {
     "name": "stdout",
     "output_type": "stream",
     "text": [
      "(1, 2, 3)\n",
      "(1, 2, 4)\n",
      "(1, 2, 5)\n",
      "(1, 2, 6)\n",
      "(1, 3, 4)\n",
      "(1, 3, 5)\n",
      "(1, 3, 6)\n",
      "(1, 4, 5)\n",
      "(1, 4, 6)\n",
      "(1, 5, 6)\n",
      "(2, 3, 4)\n",
      "(2, 3, 5)\n",
      "(2, 3, 6)\n",
      "(2, 4, 5)\n",
      "(2, 4, 6)\n",
      "(2, 5, 6)\n",
      "(3, 4, 5)\n",
      "(3, 4, 6)\n",
      "(3, 5, 6)\n",
      "(4, 5, 6)\n"
     ]
    }
   ],
   "source": [
    "nums = [1,2,3,4,5,6]\n",
    "tri_nums = itertools.combinations(nums,3)\n",
    "for tup in tri_nums:\n",
    "    print(tup)"
   ]
  },
  {
   "cell_type": "code",
   "execution_count": 54,
   "metadata": {},
   "outputs": [
    {
     "name": "stdout",
     "output_type": "stream",
     "text": [
      "(1, 1, 3)\n",
      "(1, 1, 4)\n",
      "(1, 1, 1)\n",
      "(1, 1, 6)\n",
      "(1, 3, 4)\n",
      "(1, 3, 1)\n",
      "(1, 3, 6)\n",
      "(1, 4, 1)\n",
      "(1, 4, 6)\n",
      "(1, 1, 6)\n",
      "(1, 3, 4)\n",
      "(1, 3, 1)\n",
      "(1, 3, 6)\n",
      "(1, 4, 1)\n",
      "(1, 4, 6)\n",
      "(1, 1, 6)\n",
      "(3, 4, 1)\n",
      "(3, 4, 6)\n",
      "(3, 1, 6)\n",
      "(4, 1, 6)\n"
     ]
    }
   ],
   "source": [
    "nums = [1,1,3,4,1,6]\n",
    "tri_nums = itertools.combinations(nums,3)\n",
    "for tup in tri_nums:\n",
    "    print(tup)"
   ]
  },
  {
   "cell_type": "markdown",
   "metadata": {},
   "source": [
    "- permutaiton函数生成1个K元元祖，考虑顺序"
   ]
  },
  {
   "cell_type": "code",
   "execution_count": 57,
   "metadata": {},
   "outputs": [
    {
     "data": {
      "text/plain": [
       "[(1, 1, 3),\n",
       " (1, 1, 4),\n",
       " (1, 1, 1),\n",
       " (1, 1, 6),\n",
       " (1, 3, 1),\n",
       " (1, 3, 4),\n",
       " (1, 3, 1),\n",
       " (1, 3, 6),\n",
       " (1, 4, 1),\n",
       " (1, 4, 3),\n",
       " (1, 4, 1),\n",
       " (1, 4, 6),\n",
       " (1, 1, 1),\n",
       " (1, 1, 3),\n",
       " (1, 1, 4),\n",
       " (1, 1, 6),\n",
       " (1, 6, 1),\n",
       " (1, 6, 3),\n",
       " (1, 6, 4),\n",
       " (1, 6, 1),\n",
       " (1, 1, 3),\n",
       " (1, 1, 4),\n",
       " (1, 1, 1),\n",
       " (1, 1, 6),\n",
       " (1, 3, 1),\n",
       " (1, 3, 4),\n",
       " (1, 3, 1),\n",
       " (1, 3, 6),\n",
       " (1, 4, 1),\n",
       " (1, 4, 3),\n",
       " (1, 4, 1),\n",
       " (1, 4, 6),\n",
       " (1, 1, 1),\n",
       " (1, 1, 3),\n",
       " (1, 1, 4),\n",
       " (1, 1, 6),\n",
       " (1, 6, 1),\n",
       " (1, 6, 3),\n",
       " (1, 6, 4),\n",
       " (1, 6, 1),\n",
       " (3, 1, 1),\n",
       " (3, 1, 4),\n",
       " (3, 1, 1),\n",
       " (3, 1, 6),\n",
       " (3, 1, 1),\n",
       " (3, 1, 4),\n",
       " (3, 1, 1),\n",
       " (3, 1, 6),\n",
       " (3, 4, 1),\n",
       " (3, 4, 1),\n",
       " (3, 4, 1),\n",
       " (3, 4, 6),\n",
       " (3, 1, 1),\n",
       " (3, 1, 1),\n",
       " (3, 1, 4),\n",
       " (3, 1, 6),\n",
       " (3, 6, 1),\n",
       " (3, 6, 1),\n",
       " (3, 6, 4),\n",
       " (3, 6, 1),\n",
       " (4, 1, 1),\n",
       " (4, 1, 3),\n",
       " (4, 1, 1),\n",
       " (4, 1, 6),\n",
       " (4, 1, 1),\n",
       " (4, 1, 3),\n",
       " (4, 1, 1),\n",
       " (4, 1, 6),\n",
       " (4, 3, 1),\n",
       " (4, 3, 1),\n",
       " (4, 3, 1),\n",
       " (4, 3, 6),\n",
       " (4, 1, 1),\n",
       " (4, 1, 1),\n",
       " (4, 1, 3),\n",
       " (4, 1, 6),\n",
       " (4, 6, 1),\n",
       " (4, 6, 1),\n",
       " (4, 6, 3),\n",
       " (4, 6, 1),\n",
       " (1, 1, 1),\n",
       " (1, 1, 3),\n",
       " (1, 1, 4),\n",
       " (1, 1, 6),\n",
       " (1, 1, 1),\n",
       " (1, 1, 3),\n",
       " (1, 1, 4),\n",
       " (1, 1, 6),\n",
       " (1, 3, 1),\n",
       " (1, 3, 1),\n",
       " (1, 3, 4),\n",
       " (1, 3, 6),\n",
       " (1, 4, 1),\n",
       " (1, 4, 1),\n",
       " (1, 4, 3),\n",
       " (1, 4, 6),\n",
       " (1, 6, 1),\n",
       " (1, 6, 1),\n",
       " (1, 6, 3),\n",
       " (1, 6, 4),\n",
       " (6, 1, 1),\n",
       " (6, 1, 3),\n",
       " (6, 1, 4),\n",
       " (6, 1, 1),\n",
       " (6, 1, 1),\n",
       " (6, 1, 3),\n",
       " (6, 1, 4),\n",
       " (6, 1, 1),\n",
       " (6, 3, 1),\n",
       " (6, 3, 1),\n",
       " (6, 3, 4),\n",
       " (6, 3, 1),\n",
       " (6, 4, 1),\n",
       " (6, 4, 1),\n",
       " (6, 4, 3),\n",
       " (6, 4, 1),\n",
       " (6, 1, 1),\n",
       " (6, 1, 1),\n",
       " (6, 1, 3),\n",
       " (6, 1, 4)]"
      ]
     },
     "execution_count": 57,
     "metadata": {},
     "output_type": "execute_result"
    }
   ],
   "source": [
    "nums = [1,1,3,4,1,6]\n",
    "tri_nums = itertools.permutations(nums,3)\n",
    "[tup for tup in tri_nums]"
   ]
  },
  {
   "cell_type": "markdown",
   "metadata": {},
   "source": [
    "### 异常处理\n",
    "- 处理多个异常"
   ]
  },
  {
   "cell_type": "code",
   "execution_count": 1,
   "metadata": {},
   "outputs": [],
   "source": [
    "def attempt_float(x):\n",
    "    try:\n",
    "        return float(x)\n",
    "    except (TypeError, ValueError):\n",
    "        return x"
   ]
  },
  {
   "cell_type": "markdown",
   "metadata": {},
   "source": [
    "- 全面的异常处理"
   ]
  },
  {
   "cell_type": "raw",
   "metadata": {},
   "source": [
    "f = open(path, 'w')\n",
    "\n",
    "try:\n",
    "    write_to_file(f)\n",
    "except:\n",
    "    print('Failed')\n",
    "else:\n",
    "    print('Succeeded')\n",
    "finally:"
   ]
  },
  {
   "cell_type": "code",
   "execution_count": null,
   "metadata": {},
   "outputs": [],
   "source": []
  }
 ],
 "metadata": {
  "kernelspec": {
   "display_name": "Python 3",
   "language": "python",
   "name": "python3"
  },
  "language_info": {
   "codemirror_mode": {
    "name": "ipython",
    "version": 3
   },
   "file_extension": ".py",
   "mimetype": "text/x-python",
   "name": "python",
   "nbconvert_exporter": "python",
   "pygments_lexer": "ipython3",
   "version": "3.5.4"
  }
 },
 "nbformat": 4,
 "nbformat_minor": 2
}
