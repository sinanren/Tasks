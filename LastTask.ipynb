{
 "cells": [
  {
   "cell_type": "code",
   "execution_count": 1,
   "metadata": {},
   "outputs": [],
   "source": [
    "import pandas as pd\n",
    "import numpy as np\n",
    "import os\n",
    "import matplotlib.pyplot as plt\n",
    "pd.set_option('precision',2)\n",
    "plt.rcParams['font.sans-serif']=['SimHei'] #用来正常显示中文标签\n",
    "plt.rcParams['axes.unicode_minus']=False #用来正常显示负号\n",
    "#有中文出现的情况，需要u'内容'"
   ]
  },
  {
   "cell_type": "code",
   "execution_count": 2,
   "metadata": {},
   "outputs": [
    {
     "data": {
      "text/html": [
       "<div>\n",
       "<style scoped>\n",
       "    .dataframe tbody tr th:only-of-type {\n",
       "        vertical-align: middle;\n",
       "    }\n",
       "\n",
       "    .dataframe tbody tr th {\n",
       "        vertical-align: top;\n",
       "    }\n",
       "\n",
       "    .dataframe thead th {\n",
       "        text-align: right;\n",
       "    }\n",
       "</style>\n",
       "<table border=\"1\" class=\"dataframe\">\n",
       "  <thead>\n",
       "    <tr style=\"text-align: right;\">\n",
       "      <th></th>\n",
       "      <th>user_id</th>\n",
       "      <th>order_date</th>\n",
       "      <th>order_num</th>\n",
       "      <th>money</th>\n",
       "    </tr>\n",
       "  </thead>\n",
       "  <tbody>\n",
       "    <tr>\n",
       "      <th>0</th>\n",
       "      <td>1</td>\n",
       "      <td>19970101</td>\n",
       "      <td>1</td>\n",
       "      <td>11.77</td>\n",
       "    </tr>\n",
       "    <tr>\n",
       "      <th>1</th>\n",
       "      <td>2</td>\n",
       "      <td>19970112</td>\n",
       "      <td>1</td>\n",
       "      <td>12.00</td>\n",
       "    </tr>\n",
       "    <tr>\n",
       "      <th>2</th>\n",
       "      <td>2</td>\n",
       "      <td>19970112</td>\n",
       "      <td>5</td>\n",
       "      <td>77.00</td>\n",
       "    </tr>\n",
       "    <tr>\n",
       "      <th>3</th>\n",
       "      <td>3</td>\n",
       "      <td>19970102</td>\n",
       "      <td>2</td>\n",
       "      <td>20.76</td>\n",
       "    </tr>\n",
       "    <tr>\n",
       "      <th>4</th>\n",
       "      <td>3</td>\n",
       "      <td>19970330</td>\n",
       "      <td>2</td>\n",
       "      <td>20.76</td>\n",
       "    </tr>\n",
       "    <tr>\n",
       "      <th>5</th>\n",
       "      <td>3</td>\n",
       "      <td>19970402</td>\n",
       "      <td>2</td>\n",
       "      <td>19.54</td>\n",
       "    </tr>\n",
       "    <tr>\n",
       "      <th>6</th>\n",
       "      <td>3</td>\n",
       "      <td>19971115</td>\n",
       "      <td>5</td>\n",
       "      <td>57.45</td>\n",
       "    </tr>\n",
       "    <tr>\n",
       "      <th>7</th>\n",
       "      <td>3</td>\n",
       "      <td>19971125</td>\n",
       "      <td>4</td>\n",
       "      <td>20.96</td>\n",
       "    </tr>\n",
       "    <tr>\n",
       "      <th>8</th>\n",
       "      <td>3</td>\n",
       "      <td>19980528</td>\n",
       "      <td>1</td>\n",
       "      <td>16.99</td>\n",
       "    </tr>\n",
       "    <tr>\n",
       "      <th>9</th>\n",
       "      <td>4</td>\n",
       "      <td>19970101</td>\n",
       "      <td>2</td>\n",
       "      <td>29.33</td>\n",
       "    </tr>\n",
       "  </tbody>\n",
       "</table>\n",
       "</div>"
      ],
      "text/plain": [
       "   user_id  order_date  order_num  money\n",
       "0        1    19970101          1  11.77\n",
       "1        2    19970112          1  12.00\n",
       "2        2    19970112          5  77.00\n",
       "3        3    19970102          2  20.76\n",
       "4        3    19970330          2  20.76\n",
       "5        3    19970402          2  19.54\n",
       "6        3    19971115          5  57.45\n",
       "7        3    19971125          4  20.96\n",
       "8        3    19980528          1  16.99\n",
       "9        4    19970101          2  29.33"
      ]
     },
     "execution_count": 2,
     "metadata": {},
     "output_type": "execute_result"
    }
   ],
   "source": [
    "columns = [\"user_id\",\"order_date\",\"order_num\",\"money\"]\n",
    "df_origin = pd.read_table('CDNOW.txt',sep='\\s+',header=None,names=columns)\n",
    "df_origin.head(10)"
   ]
  },
  {
   "cell_type": "code",
   "execution_count": 3,
   "metadata": {},
   "outputs": [
    {
     "name": "stdout",
     "output_type": "stream",
     "text": [
      "<class 'pandas.core.frame.DataFrame'>\n",
      "RangeIndex: 69659 entries, 0 to 69658\n",
      "Data columns (total 4 columns):\n",
      "user_id       69659 non-null int64\n",
      "order_date    69659 non-null int64\n",
      "order_num     69659 non-null int64\n",
      "money         69659 non-null float64\n",
      "dtypes: float64(1), int64(3)\n",
      "memory usage: 2.1 MB\n"
     ]
    }
   ],
   "source": [
    "df_origin.info()"
   ]
  },
  {
   "cell_type": "markdown",
   "metadata": {},
   "source": [
    "# 一、商品销售静态分析"
   ]
  },
  {
   "cell_type": "markdown",
   "metadata": {},
   "source": [
    "## 1、各订单购买数量分析"
   ]
  },
  {
   "cell_type": "markdown",
   "metadata": {},
   "source": [
    "- 分析订单总数量、单个订单购买商品最大数量、单个订单购买最小数量、均订单购买商品数量，具体如下"
   ]
  },
  {
   "cell_type": "code",
   "execution_count": 4,
   "metadata": {},
   "outputs": [
    {
     "data": {
      "text/plain": [
       "count    69659.00\n",
       "mean         2.41\n",
       "std          2.33\n",
       "min          1.00\n",
       "25%          1.00\n",
       "50%          2.00\n",
       "75%          3.00\n",
       "max         99.00\n",
       "Name: order_num, dtype: float64"
      ]
     },
     "execution_count": 4,
     "metadata": {},
     "output_type": "execute_result"
    }
   ],
   "source": [
    "df_origin.order_num.describe()"
   ]
  },
  {
   "cell_type": "code",
   "execution_count": 5,
   "metadata": {},
   "outputs": [
    {
     "data": {
      "text/html": [
       "<div>\n",
       "<style scoped>\n",
       "    .dataframe tbody tr th:only-of-type {\n",
       "        vertical-align: middle;\n",
       "    }\n",
       "\n",
       "    .dataframe tbody tr th {\n",
       "        vertical-align: top;\n",
       "    }\n",
       "\n",
       "    .dataframe thead th {\n",
       "        text-align: right;\n",
       "    }\n",
       "</style>\n",
       "<table border=\"1\" class=\"dataframe\">\n",
       "  <thead>\n",
       "    <tr style=\"text-align: right;\">\n",
       "      <th></th>\n",
       "      <th>统计项</th>\n",
       "      <th>统计结果</th>\n",
       "    </tr>\n",
       "  </thead>\n",
       "  <tbody>\n",
       "    <tr>\n",
       "      <th>0</th>\n",
       "      <td>订单总数量</td>\n",
       "      <td>69659.00</td>\n",
       "    </tr>\n",
       "    <tr>\n",
       "      <th>1</th>\n",
       "      <td>单个订单购买商品最大数量</td>\n",
       "      <td>99.00</td>\n",
       "    </tr>\n",
       "    <tr>\n",
       "      <th>2</th>\n",
       "      <td>单个订单购买最小数量</td>\n",
       "      <td>1.00</td>\n",
       "    </tr>\n",
       "    <tr>\n",
       "      <th>3</th>\n",
       "      <td>订单平均购买商品数量</td>\n",
       "      <td>2.41</td>\n",
       "    </tr>\n",
       "  </tbody>\n",
       "</table>\n",
       "</div>"
      ],
      "text/plain": [
       "            统计项      统计结果\n",
       "0         订单总数量  69659.00\n",
       "1  单个订单购买商品最大数量     99.00\n",
       "2    单个订单购买最小数量      1.00\n",
       "3    订单平均购买商品数量      2.41"
      ]
     },
     "execution_count": 5,
     "metadata": {},
     "output_type": "execute_result"
    }
   ],
   "source": [
    "# 打印需要的分析数据\n",
    "order_nums, mean_order_num,_ , min_order_num ,_,_,_, max_order_num= df_origin.order_num.describe()\n",
    "result = {'统计项':['订单总数量','单个订单购买商品最大数量','单个订单购买最小数量','订单平均购买商品数量'],\n",
    "                      '统计结果':[order_nums, max_order_num, min_order_num, mean_order_num]}\n",
    "result = pd.DataFrame(result,index=range(4))\n",
    "result[['统计项','统计结果']]\n",
    "# result.info()"
   ]
  },
  {
   "cell_type": "markdown",
   "metadata": {},
   "source": [
    "- 分析订单总金额、单个订单最大金额、单个订单最小金额、均订单购买金额，具体如下"
   ]
  },
  {
   "cell_type": "code",
   "execution_count": 6,
   "metadata": {},
   "outputs": [
    {
     "name": "stdout",
     "output_type": "stream",
     "text": [
      "订单总金额: 2500315.63\n",
      "单个订单购买商品最大金额: 1286.01\n",
      "单个订单购买最小金额: 0.0\n",
      "订单平均购买商品金额: 35.89\n"
     ]
    }
   ],
   "source": [
    "# pd.set_option('precision',2)\n",
    "import math\n",
    "pd.set_option('precision', 2)\n",
    "_, mean_order_monies,_ , min_order_monies ,_,_,_, max_order_monies= df_origin.money.describe()\n",
    "order_monies = df_origin.money.agg(sum)\n",
    "\n",
    "print('订单总金额:',order_monies.round(2))\n",
    "print('单个订单购买商品最大金额:',max_order_monies)\n",
    "print('单个订单购买最小金额:',min_order_monies)\n",
    "print('订单平均购买商品金额:',\"%.2f\"%mean_order_monies)\n"
   ]
  },
  {
   "cell_type": "markdown",
   "metadata": {},
   "source": [
    "# 二、商品销售动态分析"
   ]
  },
  {
   "cell_type": "markdown",
   "metadata": {},
   "source": [
    "## 1、订单数量趋势分析"
   ]
  },
  {
   "cell_type": "code",
   "execution_count": 7,
   "metadata": {},
   "outputs": [
    {
     "data": {
      "text/html": [
       "<div>\n",
       "<style scoped>\n",
       "    .dataframe tbody tr th:only-of-type {\n",
       "        vertical-align: middle;\n",
       "    }\n",
       "\n",
       "    .dataframe tbody tr th {\n",
       "        vertical-align: top;\n",
       "    }\n",
       "\n",
       "    .dataframe thead th {\n",
       "        text-align: right;\n",
       "    }\n",
       "</style>\n",
       "<table border=\"1\" class=\"dataframe\">\n",
       "  <thead>\n",
       "    <tr style=\"text-align: right;\">\n",
       "      <th></th>\n",
       "      <th>user_id</th>\n",
       "      <th>order_date</th>\n",
       "      <th>order_num</th>\n",
       "      <th>money</th>\n",
       "      <th>dt</th>\n",
       "    </tr>\n",
       "  </thead>\n",
       "  <tbody>\n",
       "    <tr>\n",
       "      <th>0</th>\n",
       "      <td>1</td>\n",
       "      <td>19970101</td>\n",
       "      <td>1</td>\n",
       "      <td>11.77</td>\n",
       "      <td>1997-01-01</td>\n",
       "    </tr>\n",
       "    <tr>\n",
       "      <th>1</th>\n",
       "      <td>2</td>\n",
       "      <td>19970112</td>\n",
       "      <td>1</td>\n",
       "      <td>12.00</td>\n",
       "      <td>1997-01-12</td>\n",
       "    </tr>\n",
       "    <tr>\n",
       "      <th>2</th>\n",
       "      <td>2</td>\n",
       "      <td>19970112</td>\n",
       "      <td>5</td>\n",
       "      <td>77.00</td>\n",
       "      <td>1997-01-12</td>\n",
       "    </tr>\n",
       "    <tr>\n",
       "      <th>3</th>\n",
       "      <td>3</td>\n",
       "      <td>19970102</td>\n",
       "      <td>2</td>\n",
       "      <td>20.76</td>\n",
       "      <td>1997-01-02</td>\n",
       "    </tr>\n",
       "    <tr>\n",
       "      <th>4</th>\n",
       "      <td>3</td>\n",
       "      <td>19970330</td>\n",
       "      <td>2</td>\n",
       "      <td>20.76</td>\n",
       "      <td>1997-03-30</td>\n",
       "    </tr>\n",
       "  </tbody>\n",
       "</table>\n",
       "</div>"
      ],
      "text/plain": [
       "   user_id  order_date  order_num  money         dt\n",
       "0        1    19970101          1  11.77 1997-01-01\n",
       "1        2    19970112          1  12.00 1997-01-12\n",
       "2        2    19970112          5  77.00 1997-01-12\n",
       "3        3    19970102          2  20.76 1997-01-02\n",
       "4        3    19970330          2  20.76 1997-03-30"
      ]
     },
     "execution_count": 7,
     "metadata": {},
     "output_type": "execute_result"
    }
   ],
   "source": [
    "# 时间序列分析\n",
    "df_origin['dt'] = pd.to_datetime(df_origin['order_date'],format='%Y%m%d')\n",
    "df_origin.head()"
   ]
  },
  {
   "cell_type": "code",
   "execution_count": 8,
   "metadata": {},
   "outputs": [
    {
     "data": {
      "text/plain": [
       "dt\n",
       "1997-01-01    212\n",
       "1997-01-02    247\n",
       "1997-01-03    236\n",
       "1997-01-04    178\n",
       "1997-01-05    256\n",
       "Name: order_date, dtype: int64"
      ]
     },
     "execution_count": 8,
     "metadata": {},
     "output_type": "execute_result"
    }
   ],
   "source": [
    "# 根据dt字段聚合数据\n",
    "grouped = df_origin.groupby('dt')\n",
    "order_counts_by_dt = grouped.order_date.count()\n",
    "order_counts_by_dt.head()"
   ]
  },
  {
   "cell_type": "code",
   "execution_count": 9,
   "metadata": {},
   "outputs": [
    {
     "data": {
      "text/plain": [
       "<matplotlib.axes._subplots.AxesSubplot at 0x1899fcc0>"
      ]
     },
     "execution_count": 9,
     "metadata": {},
     "output_type": "execute_result"
    },
    {
     "data": {
      "image/png": "[encoded data removed]",
      "text/plain": [
       "<Figure size 864x432 with 1 Axes>"
      ]
     },
     "metadata": {
      "needs_background": "light"
     },
     "output_type": "display_data"
    }
   ],
   "source": [
    "# 订单数量趋势图\n",
    "order_counts_by_dt.plot(figsize=(12,6),title='图1：日统计订单数量趋势图')"
   ]
  },
  {
   "cell_type": "code",
   "execution_count": 10,
   "metadata": {},
   "outputs": [
    {
     "name": "stdout",
     "output_type": "stream",
     "text": [
      "日均订单数量:127.58\n",
      "日最高订单数量:504,到达时间:1997-02-24\n",
      "日最低订单数量:44,到达时间:1998-04-12\n"
     ]
    }
   ],
   "source": [
    "# 计算出日均订单数量，最高订单数量及时间戳，日最低订单数量及时间戳\n",
    "from datetime import datetime\n",
    "\n",
    "print('日均订单数量:%.2f'%order_counts_by_dt.mean())\n",
    "print('日最高订单数量:%d,到达时间:%s'%(order_counts_by_dt.max(),datetime.date((order_counts_by_dt.idxmax()))))\n",
    "print('日最低订单数量:%d,到达时间:%s'%(order_counts_by_dt.min(),datetime.date((order_counts_by_dt.idxmin()))))"
   ]
  },
  {
   "cell_type": "markdown",
   "metadata": {},
   "source": [
    "结语：日订单数量整体呈下降趋势，其中日订单数量在1997年2月24日到达顶峰，在1998年4月12日到达最低谷。"
   ]
  },
  {
   "cell_type": "markdown",
   "metadata": {},
   "source": [
    "## 2、订单金额趋势分析"
   ]
  },
  {
   "cell_type": "code",
   "execution_count": 11,
   "metadata": {},
   "outputs": [
    {
     "name": "stdout",
     "output_type": "stream",
     "text": [
      "日均订单金额:4579.33\n",
      "日最高订单金额:17440,到达时间:1997-03-18\n",
      "日最低订单金额:1119,到达时间:1997-12-23\n"
     ]
    },
    {
     "data": {
      "text/plain": [
       "<matplotlib.axes._subplots.AxesSubplot at 0x18bac8d0>"
      ]
     },
     "execution_count": 11,
     "metadata": {},
     "output_type": "execute_result"
    },
    {
     "data": {
      "image/png": "[encoded data removed]",
      "text/plain": [
       "<Figure size 864x432 with 1 Axes>"
      ]
     },
     "metadata": {
      "needs_background": "light"
     },
     "output_type": "display_data"
    }
   ],
   "source": [
    "# 计算出日均订单数量，最高订单数量及时间戳，日最低订单数量及时间戳\n",
    "from datetime import datetime\n",
    "order_monies_by_dt = grouped.money.sum()\n",
    "print('日均订单金额:%.2f'%order_monies_by_dt.mean())\n",
    "print('日最高订单金额:%d,到达时间:%s'%(order_monies_by_dt.max(),datetime.date((order_monies_by_dt.idxmax()))))\n",
    "print('日最低订单金额:%d,到达时间:%s'%(order_monies_by_dt.min(),datetime.date((order_monies_by_dt.idxmin()))))\n",
    "order_monies_by_dt.plot(figsize=(12,6),title='图2：日统计订单金额趋势图')"
   ]
  },
  {
   "cell_type": "markdown",
   "metadata": {},
   "source": [
    "## 3、异常值检测？"
   ]
  },
  {
   "cell_type": "markdown",
   "metadata": {},
   "source": [
    "- 没有空值和null值"
   ]
  },
  {
   "cell_type": "code",
   "execution_count": 12,
   "metadata": {},
   "outputs": [
    {
     "data": {
      "text/plain": [
       "user_id       False\n",
       "order_date    False\n",
       "order_num     False\n",
       "money         False\n",
       "dt            False\n",
       "dtype: bool"
      ]
     },
     "execution_count": 12,
     "metadata": {},
     "output_type": "execute_result"
    }
   ],
   "source": [
    "df_origin.isna().any()"
   ]
  },
  {
   "cell_type": "code",
   "execution_count": 13,
   "metadata": {},
   "outputs": [
    {
     "data": {
      "text/plain": [
       "user_id       False\n",
       "order_date    False\n",
       "order_num     False\n",
       "money         False\n",
       "dt            False\n",
       "dtype: bool"
      ]
     },
     "execution_count": 13,
     "metadata": {},
     "output_type": "execute_result"
    }
   ],
   "source": [
    "df_origin.isnull().any()"
   ]
  },
  {
   "cell_type": "markdown",
   "metadata": {},
   "source": [
    "- 购买金额为0判定为无效订单"
   ]
  },
  {
   "cell_type": "code",
   "execution_count": 14,
   "metadata": {},
   "outputs": [
    {
     "name": "stdout",
     "output_type": "stream",
     "text": [
      "<class 'pandas.core.frame.DataFrame'>\n",
      "Int64Index: 69579 entries, 0 to 69658\n",
      "Data columns (total 5 columns):\n",
      "user_id       69579 non-null int64\n",
      "order_date    69579 non-null int64\n",
      "order_num     69579 non-null int64\n",
      "money         69579 non-null float64\n",
      "dt            69579 non-null datetime64[ns]\n",
      "dtypes: datetime64[ns](1), float64(1), int64(3)\n",
      "memory usage: 3.2 MB\n"
     ]
    }
   ],
   "source": [
    "df_origin = df_origin[df_origin.money!=0]\n",
    "df_origin.info()"
   ]
  },
  {
   "cell_type": "code",
   "execution_count": 15,
   "metadata": {},
   "outputs": [
    {
     "data": {
      "text/plain": [
       "<matplotlib.axes._subplots.AxesSubplot at 0x18e664e0>"
      ]
     },
     "execution_count": 15,
     "metadata": {},
     "output_type": "execute_result"
    },
    {
     "data": {
      "image/png": "[encoded data removed]",
      "text/plain": [
       "<Figure size 432x288 with 1 Axes>"
      ]
     },
     "metadata": {
      "needs_background": "light"
     },
     "output_type": "display_data"
    }
   ],
   "source": [
    "# 散点图看订单特征分布\n",
    "df_origin.plot.scatter('order_num','money')"
   ]
  },
  {
   "cell_type": "markdown",
   "metadata": {},
   "source": [
    "订单分布比较集中，且特征之间规律性较强，没有异常值。"
   ]
  },
  {
   "cell_type": "markdown",
   "metadata": {},
   "source": [
    "# 三、用户消费行为静态分析"
   ]
  },
  {
   "cell_type": "markdown",
   "metadata": {},
   "source": [
    "## 1、各用户购买数量分析"
   ]
  },
  {
   "cell_type": "code",
   "execution_count": 314,
   "metadata": {},
   "outputs": [
    {
     "name": "stdout",
     "output_type": "stream",
     "text": [
      "<class 'pandas.core.frame.DataFrame'>\n",
      "Int64Index: 69579 entries, 0 to 69658\n",
      "Data columns (total 4 columns):\n",
      "user_id       69579 non-null int64\n",
      "order_date    69579 non-null int64\n",
      "order_num     69579 non-null int64\n",
      "money         69579 non-null float64\n",
      "dtypes: float64(1), int64(3)\n",
      "memory usage: 2.7 MB\n"
     ]
    }
   ],
   "source": [
    "# 按照用户聚合\n",
    "df_origin = pd.read_table('CDNOW.txt',sep='\\s+',header=None,names=columns)\n",
    "df_cleaned = df_origin[df_origin.money>0].reindex()\n",
    "group_by_user = df_cleaned.groupby('user_id')\n",
    "df_cleaned.info()"
   ]
  },
  {
   "cell_type": "markdown",
   "metadata": {},
   "source": [
    "- 各用户累计购买数量分析"
   ]
  },
  {
   "cell_type": "code",
   "execution_count": 17,
   "metadata": {},
   "outputs": [
    {
     "data": {
      "text/plain": [
       "count    23502.00\n",
       "mean         7.14\n",
       "std         17.00\n",
       "min          1.00\n",
       "25%          1.00\n",
       "50%          3.00\n",
       "75%          7.00\n",
       "max       1033.00\n",
       "Name: order_num, dtype: float64"
      ]
     },
     "execution_count": 17,
     "metadata": {},
     "output_type": "execute_result"
    }
   ],
   "source": [
    "group_by_user.order_num.sum().describe()"
   ]
  },
  {
   "cell_type": "markdown",
   "metadata": {},
   "source": [
    "分析：共计有效用户23502个（之前异常检测去掉了金额为0的无效订单），单用户最大购买量1033件，单用户最少购买量1件，均用户购买7件。以下为购买量前10的用户"
   ]
  },
  {
   "cell_type": "code",
   "execution_count": 18,
   "metadata": {},
   "outputs": [
    {
     "data": {
      "text/plain": [
       "user_id\n",
       "14048    1033\n",
       "7592      917\n",
       "7983      536\n",
       "7931      514\n",
       "19339     378\n",
       "22279     330\n",
       "499       328\n",
       "6569      322\n",
       "3049      301\n",
       "16517     299\n",
       "Name: order_num, dtype: int64"
      ]
     },
     "execution_count": 18,
     "metadata": {},
     "output_type": "execute_result"
    }
   ],
   "source": [
    "group_by_user.order_num.sum().sort_values(ascending=False).head(10)"
   ]
  },
  {
   "cell_type": "markdown",
   "metadata": {},
   "source": [
    "- 各用户购买数量累计贡献分析"
   ]
  },
  {
   "cell_type": "code",
   "execution_count": 19,
   "metadata": {},
   "outputs": [],
   "source": [
    "# 统计多少用户贡献了多少购买量？以占比的形式\n",
    "def order_ratio_by_user(df,n,flag=False):\n",
    "    n = int(df.count()*n/100)\n",
    "    df_in = df.sort_values(ascending=flag).head(n)\n",
    "    ratio = df_in.sum() / df.sum()\n",
    "    return ratio"
   ]
  },
  {
   "cell_type": "code",
   "execution_count": 20,
   "metadata": {},
   "outputs": [
    {
     "name": "stdout",
     "output_type": "stream",
     "text": [
      "按照购买量由多到少，前百分之10用户贡献了约百分之50.76的订单出货量\n",
      "按照购买量由多到少，前百分之20用户贡献了约百分之67.70的订单出货量\n",
      "按照购买量由多到少，前百分之30用户贡献了约百分之77.82的订单出货量\n",
      "按照购买量由多到少，前百分之40用户贡献了约百分之84.57的订单出货量\n",
      "按照购买量由多到少，前百分之50用户贡献了约百分之89.37的订单出货量\n",
      "按照购买量由多到少，前百分之60用户贡献了约百分之92.81的订单出货量\n",
      "按照购买量由多到少，前百分之70用户贡献了约百分之95.62的订单出货量\n",
      "按照购买量由多到少，前百分之80用户贡献了约百分之97.20的订单出货量\n"
     ]
    }
   ],
   "source": [
    "order_nums_by_user = group_by_user.order_num.sum()\n",
    "for i in range(1,9):\n",
    "    print(\"按照购买量由多到少，前百分之%d用户贡献了约百分之%.2f的订单出货量\"%\n",
    "          (10*i,order_ratio_by_user(order_nums_by_user,10*i)*100))"
   ]
  },
  {
   "cell_type": "code",
   "execution_count": 21,
   "metadata": {},
   "outputs": [
    {
     "data": {
      "text/plain": [
       "<matplotlib.axes._subplots.AxesSubplot at 0x18e03160>"
      ]
     },
     "execution_count": 21,
     "metadata": {},
     "output_type": "execute_result"
    },
    {
     "data": {
      "image/png": "[encoded data removed]",
      "text/plain": [
       "<Figure size 864x432 with 1 Axes>"
      ]
     },
     "metadata": {
      "needs_background": "light"
     },
     "output_type": "display_data"
    }
   ],
   "source": [
    "data_image1 = pd.Series([order_ratio_by_user(order_nums_by_user,i) for i in range(101)])\n",
    "data_image1.plot(figsize=(12,6),title=\"图3：按照购买量由多到少的用户比例与订单比例对比图\")"
   ]
  },
  {
   "cell_type": "code",
   "execution_count": 22,
   "metadata": {},
   "outputs": [
    {
     "data": {
      "text/plain": [
       "<matplotlib.axes._subplots.AxesSubplot at 0x18e2fa20>"
      ]
     },
     "execution_count": 22,
     "metadata": {},
     "output_type": "execute_result"
    },
    {
     "data": {
      "image/png": "[encoded data removed]",
      "text/plain": [
       "<Figure size 864x432 with 1 Axes>"
      ]
     },
     "metadata": {
      "needs_background": "light"
     },
     "output_type": "display_data"
    }
   ],
   "source": [
    "# hist图,栅栏分析，x轴数据等分统计\n",
    "order_nums_by_user.hist(figsize=(12,6),bins=30)"
   ]
  },
  {
   "cell_type": "markdown",
   "metadata": {},
   "source": [
    "分析：绝大多数用户分布在购买量较少的区间内，高购买量用户非常少"
   ]
  },
  {
   "cell_type": "markdown",
   "metadata": {},
   "source": [
    "- 各用户最大单笔购买数量分析"
   ]
  },
  {
   "cell_type": "code",
   "execution_count": 23,
   "metadata": {},
   "outputs": [
    {
     "data": {
      "text/plain": [
       "Int64Index([    0,     1,     2,     3,     4,     5,     6,     7,     8,\n",
       "                9,\n",
       "            ...\n",
       "            69649, 69650, 69651, 69652, 69653, 69654, 69655, 69656, 69657,\n",
       "            69658],\n",
       "           dtype='int64', length=69579)"
      ]
     },
     "execution_count": 23,
     "metadata": {},
     "output_type": "execute_result"
    }
   ],
   "source": [
    "df_cleaned.index"
   ]
  },
  {
   "cell_type": "code",
   "execution_count": 24,
   "metadata": {},
   "outputs": [
    {
     "data": {
      "text/plain": [
       "user_id\n",
       "1     0\n",
       "2     2\n",
       "3     6\n",
       "4     9\n",
       "5    21\n",
       "Name: order_num, dtype: int64"
      ]
     },
     "execution_count": 24,
     "metadata": {},
     "output_type": "execute_result"
    }
   ],
   "source": [
    "# 取出各用户最大订单索引\n",
    "max_idexer = group_by_user.order_num.idxmax()\n",
    "\n",
    "max_idexer[:5]"
   ]
  },
  {
   "cell_type": "code",
   "execution_count": 25,
   "metadata": {},
   "outputs": [
    {
     "data": {
      "text/html": [
       "<div>\n",
       "<style scoped>\n",
       "    .dataframe tbody tr th:only-of-type {\n",
       "        vertical-align: middle;\n",
       "    }\n",
       "\n",
       "    .dataframe tbody tr th {\n",
       "        vertical-align: top;\n",
       "    }\n",
       "\n",
       "    .dataframe thead th {\n",
       "        text-align: right;\n",
       "    }\n",
       "</style>\n",
       "<table border=\"1\" class=\"dataframe\">\n",
       "  <thead>\n",
       "    <tr style=\"text-align: right;\">\n",
       "      <th></th>\n",
       "      <th>user_id</th>\n",
       "      <th>order_date</th>\n",
       "      <th>order_num</th>\n",
       "      <th>money</th>\n",
       "    </tr>\n",
       "  </thead>\n",
       "  <tbody>\n",
       "    <tr>\n",
       "      <th>0</th>\n",
       "      <td>1</td>\n",
       "      <td>19970101</td>\n",
       "      <td>1</td>\n",
       "      <td>11.77</td>\n",
       "    </tr>\n",
       "    <tr>\n",
       "      <th>2</th>\n",
       "      <td>2</td>\n",
       "      <td>19970112</td>\n",
       "      <td>5</td>\n",
       "      <td>77.00</td>\n",
       "    </tr>\n",
       "    <tr>\n",
       "      <th>6</th>\n",
       "      <td>3</td>\n",
       "      <td>19971115</td>\n",
       "      <td>5</td>\n",
       "      <td>57.45</td>\n",
       "    </tr>\n",
       "    <tr>\n",
       "      <th>9</th>\n",
       "      <td>4</td>\n",
       "      <td>19970101</td>\n",
       "      <td>2</td>\n",
       "      <td>29.33</td>\n",
       "    </tr>\n",
       "    <tr>\n",
       "      <th>21</th>\n",
       "      <td>5</td>\n",
       "      <td>19971208</td>\n",
       "      <td>4</td>\n",
       "      <td>46.46</td>\n",
       "    </tr>\n",
       "  </tbody>\n",
       "</table>\n",
       "</div>"
      ],
      "text/plain": [
       "    user_id  order_date  order_num  money\n",
       "0         1    19970101          1  11.77\n",
       "2         2    19970112          5  77.00\n",
       "6         3    19971115          5  57.45\n",
       "9         4    19970101          2  29.33\n",
       "21        5    19971208          4  46.46"
      ]
     },
     "execution_count": 25,
     "metadata": {},
     "output_type": "execute_result"
    }
   ],
   "source": [
    "# 根据索引检索出相关订单信息\n",
    "\n",
    "df_origin.take(max_idexer).head()"
   ]
  },
  {
   "cell_type": "code",
   "execution_count": 26,
   "metadata": {},
   "outputs": [
    {
     "data": {
      "text/html": [
       "<div>\n",
       "<style scoped>\n",
       "    .dataframe tbody tr th:only-of-type {\n",
       "        vertical-align: middle;\n",
       "    }\n",
       "\n",
       "    .dataframe tbody tr th {\n",
       "        vertical-align: top;\n",
       "    }\n",
       "\n",
       "    .dataframe thead th {\n",
       "        text-align: right;\n",
       "    }\n",
       "</style>\n",
       "<table border=\"1\" class=\"dataframe\">\n",
       "  <thead>\n",
       "    <tr style=\"text-align: right;\">\n",
       "      <th></th>\n",
       "      <th>user_id</th>\n",
       "      <th>order_date</th>\n",
       "      <th>order_num</th>\n",
       "      <th>money</th>\n",
       "    </tr>\n",
       "  </thead>\n",
       "  <tbody>\n",
       "    <tr>\n",
       "      <th>27632</th>\n",
       "      <td>8830</td>\n",
       "      <td>19980610</td>\n",
       "      <td>99</td>\n",
       "      <td>1286.01</td>\n",
       "    </tr>\n",
       "    <tr>\n",
       "      <th>69416</th>\n",
       "      <td>23474</td>\n",
       "      <td>19970607</td>\n",
       "      <td>70</td>\n",
       "      <td>932.23</td>\n",
       "    </tr>\n",
       "    <tr>\n",
       "      <th>65950</th>\n",
       "      <td>22279</td>\n",
       "      <td>19970726</td>\n",
       "      <td>63</td>\n",
       "      <td>915.10</td>\n",
       "    </tr>\n",
       "    <tr>\n",
       "      <th>26686</th>\n",
       "      <td>8529</td>\n",
       "      <td>19970228</td>\n",
       "      <td>56</td>\n",
       "      <td>756.47</td>\n",
       "    </tr>\n",
       "    <tr>\n",
       "      <th>23565</th>\n",
       "      <td>7592</td>\n",
       "      <td>19970203</td>\n",
       "      <td>47</td>\n",
       "      <td>563.59</td>\n",
       "    </tr>\n",
       "    <tr>\n",
       "      <th>32495</th>\n",
       "      <td>10550</td>\n",
       "      <td>19970303</td>\n",
       "      <td>43</td>\n",
       "      <td>669.93</td>\n",
       "    </tr>\n",
       "    <tr>\n",
       "      <th>45314</th>\n",
       "      <td>14894</td>\n",
       "      <td>19970225</td>\n",
       "      <td>42</td>\n",
       "      <td>1028.51</td>\n",
       "    </tr>\n",
       "    <tr>\n",
       "      <th>4425</th>\n",
       "      <td>1412</td>\n",
       "      <td>19970818</td>\n",
       "      <td>41</td>\n",
       "      <td>558.09</td>\n",
       "    </tr>\n",
       "    <tr>\n",
       "      <th>45593</th>\n",
       "      <td>15003</td>\n",
       "      <td>19970223</td>\n",
       "      <td>40</td>\n",
       "      <td>506.97</td>\n",
       "    </tr>\n",
       "    <tr>\n",
       "      <th>46359</th>\n",
       "      <td>15238</td>\n",
       "      <td>19970324</td>\n",
       "      <td>39</td>\n",
       "      <td>544.83</td>\n",
       "    </tr>\n",
       "  </tbody>\n",
       "</table>\n",
       "</div>"
      ],
      "text/plain": [
       "       user_id  order_date  order_num    money\n",
       "27632     8830    19980610         99  1286.01\n",
       "69416    23474    19970607         70   932.23\n",
       "65950    22279    19970726         63   915.10\n",
       "26686     8529    19970228         56   756.47\n",
       "23565     7592    19970203         47   563.59\n",
       "32495    10550    19970303         43   669.93\n",
       "45314    14894    19970225         42  1028.51\n",
       "4425      1412    19970818         41   558.09\n",
       "45593    15003    19970223         40   506.97\n",
       "46359    15238    19970324         39   544.83"
      ]
     },
     "execution_count": 26,
     "metadata": {},
     "output_type": "execute_result"
    }
   ],
   "source": [
    "# 单笔订单最大的前10用户明细\n",
    "df_origin.take(max_idexer).sort_values(by='order_num',ascending=False).head(10)"
   ]
  },
  {
   "cell_type": "markdown",
   "metadata": {},
   "source": [
    "## 2、各用户购买金额分析分析"
   ]
  },
  {
   "cell_type": "markdown",
   "metadata": {},
   "source": [
    "- 各用户累计购买金额分析"
   ]
  },
  {
   "cell_type": "code",
   "execution_count": 27,
   "metadata": {},
   "outputs": [
    {
     "data": {
      "text/plain": [
       "count    23502.00\n",
       "mean       106.39\n",
       "std        241.21\n",
       "min          3.99\n",
       "25%         19.99\n",
       "50%         43.60\n",
       "75%        106.97\n",
       "max      13990.93\n",
       "Name: money, dtype: float64"
      ]
     },
     "execution_count": 27,
     "metadata": {},
     "output_type": "execute_result"
    }
   ],
   "source": [
    "group_by_user.money.sum().describe()"
   ]
  },
  {
   "cell_type": "markdown",
   "metadata": {},
   "source": [
    "- 分析：共计用户23502个(去掉购买金额为0的无效工单)，单用户最大购买金额13990.93$，单用户最少购买金额3.99$，均用户购买106.39$。以下为购买量前10的用户"
   ]
  },
  {
   "cell_type": "code",
   "execution_count": 28,
   "metadata": {},
   "outputs": [
    {
     "data": {
      "text/plain": [
       "user_id\n",
       "7592     13990.93\n",
       "14048     8976.33\n",
       "7983      6973.07\n",
       "19339     6552.70\n",
       "7931      6497.18\n",
       "6569      4968.00\n",
       "22279     4490.64\n",
       "499       4378.55\n",
       "3049      4262.85\n",
       "15162     4234.45\n",
       "Name: money, dtype: float64"
      ]
     },
     "execution_count": 28,
     "metadata": {},
     "output_type": "execute_result"
    }
   ],
   "source": [
    "group_by_user.money.sum().sort_values(ascending=False).head(10)"
   ]
  },
  {
   "cell_type": "markdown",
   "metadata": {},
   "source": [
    "- 各用户购买金额累计贡献分析"
   ]
  },
  {
   "cell_type": "code",
   "execution_count": 29,
   "metadata": {},
   "outputs": [
    {
     "name": "stdout",
     "output_type": "stream",
     "text": [
      "按照购买金额由多到少，前百分之10用户贡献了约百分之50.87的消费额度\n",
      "按照购买金额由多到少，前百分之20用户贡献了约百分之67.70的消费额度\n",
      "按照购买金额由多到少，前百分之30用户贡献了约百分之77.88的消费额度\n",
      "按照购买金额由多到少，前百分之40用户贡献了约百分之84.69的消费额度\n",
      "按照购买金额由多到少，前百分之50用户贡献了约百分之89.53的消费额度\n",
      "按照购买金额由多到少，前百分之60用户贡献了约百分之93.09的消费额度\n",
      "按照购买金额由多到少，前百分之70用户贡献了约百分之95.74的消费额度\n",
      "按照购买金额由多到少，前百分之80用户贡献了约百分之97.62的消费额度\n"
     ]
    }
   ],
   "source": [
    "# 定义按高低顺序，若干占比用户的消费占比，使用上面定义好的函数\n",
    "# def order_ratio_by_user(df,n,flag=False):\n",
    "#     n = int(df.count()*n/100)\n",
    "#     df_in = df.sort_values(ascending=flag).head(n)\n",
    "#     ratio = df_in.sum() / df.sum()\n",
    "#     return ratio\n",
    "order_monies_by_user = group_by_user.money.sum()\n",
    "for i in range(1,9):\n",
    "    print(\"按照购买金额由多到少，前百分之%d用户贡献了约百分之%.2f的消费额度\"%\n",
    "          (10*i,order_ratio_by_user(order_monies_by_user,10*i)*100))"
   ]
  },
  {
   "cell_type": "code",
   "execution_count": 30,
   "metadata": {},
   "outputs": [
    {
     "data": {
      "text/plain": [
       "<matplotlib.axes._subplots.AxesSubplot at 0x18f1cc50>"
      ]
     },
     "execution_count": 30,
     "metadata": {},
     "output_type": "execute_result"
    },
    {
     "data": {
      "image/png": "[encoded data removed]",
      "text/plain": [
       "<Figure size 864x432 with 1 Axes>"
      ]
     },
     "metadata": {
      "needs_background": "light"
     },
     "output_type": "display_data"
    }
   ],
   "source": [
    "data_image2 = pd.Series([order_ratio_by_user(order_monies_by_user,i) for i in range(101)])\n",
    "data_image2.plot(figsize=(12,6),title=\"图5：按照购买金额由多到少的用户比例与订单金额比例对应图\")"
   ]
  },
  {
   "cell_type": "code",
   "execution_count": 31,
   "metadata": {},
   "outputs": [
    {
     "data": {
      "text/plain": [
       "<matplotlib.axes._subplots.AxesSubplot at 0x1c88ada0>"
      ]
     },
     "execution_count": 31,
     "metadata": {},
     "output_type": "execute_result"
    },
    {
     "data": {
      "image/png": "[encoded data removed]",
      "text/plain": [
       "<Figure size 864x432 with 1 Axes>"
      ]
     },
     "metadata": {
      "needs_background": "light"
     },
     "output_type": "display_data"
    }
   ],
   "source": [
    "# hist图,栅栏分析，\n",
    "order_monies_by_user.hist(figsize=(12,6),bins=30)"
   ]
  },
  {
   "cell_type": "markdown",
   "metadata": {},
   "source": [
    "分析:大多数用户购买金额分布在比较小的几个区间内，高购买金额的用户非常少。"
   ]
  },
  {
   "cell_type": "markdown",
   "metadata": {},
   "source": [
    "- 各用户最大单笔小芬金额分析"
   ]
  },
  {
   "cell_type": "code",
   "execution_count": 32,
   "metadata": {},
   "outputs": [
    {
     "data": {
      "text/plain": [
       "user_id\n",
       "1     0\n",
       "2     2\n",
       "3     6\n",
       "4    10\n",
       "5    21\n",
       "Name: money, dtype: int64"
      ]
     },
     "execution_count": 32,
     "metadata": {},
     "output_type": "execute_result"
    }
   ],
   "source": [
    "# 取出各用户最大金额订单索引\n",
    "max_money_idexer = group_by_user.money.idxmax()\n",
    "\n",
    "max_money_idexer[:5]"
   ]
  },
  {
   "cell_type": "code",
   "execution_count": 33,
   "metadata": {},
   "outputs": [
    {
     "data": {
      "text/html": [
       "<div>\n",
       "<style scoped>\n",
       "    .dataframe tbody tr th:only-of-type {\n",
       "        vertical-align: middle;\n",
       "    }\n",
       "\n",
       "    .dataframe tbody tr th {\n",
       "        vertical-align: top;\n",
       "    }\n",
       "\n",
       "    .dataframe thead th {\n",
       "        text-align: right;\n",
       "    }\n",
       "</style>\n",
       "<table border=\"1\" class=\"dataframe\">\n",
       "  <thead>\n",
       "    <tr style=\"text-align: right;\">\n",
       "      <th></th>\n",
       "      <th>user_id</th>\n",
       "      <th>order_date</th>\n",
       "      <th>order_num</th>\n",
       "      <th>money</th>\n",
       "    </tr>\n",
       "  </thead>\n",
       "  <tbody>\n",
       "    <tr>\n",
       "      <th>0</th>\n",
       "      <td>1</td>\n",
       "      <td>19970101</td>\n",
       "      <td>1</td>\n",
       "      <td>11.77</td>\n",
       "    </tr>\n",
       "    <tr>\n",
       "      <th>2</th>\n",
       "      <td>2</td>\n",
       "      <td>19970112</td>\n",
       "      <td>5</td>\n",
       "      <td>77.00</td>\n",
       "    </tr>\n",
       "    <tr>\n",
       "      <th>6</th>\n",
       "      <td>3</td>\n",
       "      <td>19971115</td>\n",
       "      <td>5</td>\n",
       "      <td>57.45</td>\n",
       "    </tr>\n",
       "    <tr>\n",
       "      <th>10</th>\n",
       "      <td>4</td>\n",
       "      <td>19970118</td>\n",
       "      <td>2</td>\n",
       "      <td>29.73</td>\n",
       "    </tr>\n",
       "    <tr>\n",
       "      <th>21</th>\n",
       "      <td>5</td>\n",
       "      <td>19971208</td>\n",
       "      <td>4</td>\n",
       "      <td>46.46</td>\n",
       "    </tr>\n",
       "  </tbody>\n",
       "</table>\n",
       "</div>"
      ],
      "text/plain": [
       "    user_id  order_date  order_num  money\n",
       "0         1    19970101          1  11.77\n",
       "2         2    19970112          5  77.00\n",
       "6         3    19971115          5  57.45\n",
       "10        4    19970118          2  29.73\n",
       "21        5    19971208          4  46.46"
      ]
     },
     "execution_count": 33,
     "metadata": {},
     "output_type": "execute_result"
    }
   ],
   "source": [
    "# 根据索引检索出相关订单信息\n",
    "df_max_money = df_origin.take(max_money_idexer)\n",
    "df_max_money.head()"
   ]
  },
  {
   "cell_type": "code",
   "execution_count": 34,
   "metadata": {},
   "outputs": [
    {
     "data": {
      "text/html": [
       "<div>\n",
       "<style scoped>\n",
       "    .dataframe tbody tr th:only-of-type {\n",
       "        vertical-align: middle;\n",
       "    }\n",
       "\n",
       "    .dataframe tbody tr th {\n",
       "        vertical-align: top;\n",
       "    }\n",
       "\n",
       "    .dataframe thead th {\n",
       "        text-align: right;\n",
       "    }\n",
       "</style>\n",
       "<table border=\"1\" class=\"dataframe\">\n",
       "  <thead>\n",
       "    <tr style=\"text-align: right;\">\n",
       "      <th></th>\n",
       "      <th>user_id</th>\n",
       "      <th>order_date</th>\n",
       "      <th>order_num</th>\n",
       "      <th>money</th>\n",
       "    </tr>\n",
       "  </thead>\n",
       "  <tbody>\n",
       "    <tr>\n",
       "      <th>27632</th>\n",
       "      <td>8830</td>\n",
       "      <td>19980610</td>\n",
       "      <td>99</td>\n",
       "      <td>1286.01</td>\n",
       "    </tr>\n",
       "    <tr>\n",
       "      <th>56479</th>\n",
       "      <td>18847</td>\n",
       "      <td>19970307</td>\n",
       "      <td>32</td>\n",
       "      <td>1119.68</td>\n",
       "    </tr>\n",
       "    <tr>\n",
       "      <th>45314</th>\n",
       "      <td>14894</td>\n",
       "      <td>19970225</td>\n",
       "      <td>42</td>\n",
       "      <td>1028.51</td>\n",
       "    </tr>\n",
       "    <tr>\n",
       "      <th>69416</th>\n",
       "      <td>23474</td>\n",
       "      <td>19970607</td>\n",
       "      <td>70</td>\n",
       "      <td>932.23</td>\n",
       "    </tr>\n",
       "    <tr>\n",
       "      <th>65950</th>\n",
       "      <td>22279</td>\n",
       "      <td>19970726</td>\n",
       "      <td>63</td>\n",
       "      <td>915.10</td>\n",
       "    </tr>\n",
       "    <tr>\n",
       "      <th>26686</th>\n",
       "      <td>8529</td>\n",
       "      <td>19970228</td>\n",
       "      <td>56</td>\n",
       "      <td>756.47</td>\n",
       "    </tr>\n",
       "    <tr>\n",
       "      <th>32495</th>\n",
       "      <td>10550</td>\n",
       "      <td>19970303</td>\n",
       "      <td>43</td>\n",
       "      <td>669.93</td>\n",
       "    </tr>\n",
       "    <tr>\n",
       "      <th>37453</th>\n",
       "      <td>12304</td>\n",
       "      <td>19970217</td>\n",
       "      <td>14</td>\n",
       "      <td>606.55</td>\n",
       "    </tr>\n",
       "    <tr>\n",
       "      <th>11428</th>\n",
       "      <td>3537</td>\n",
       "      <td>19971107</td>\n",
       "      <td>39</td>\n",
       "      <td>597.61</td>\n",
       "    </tr>\n",
       "    <tr>\n",
       "      <th>31606</th>\n",
       "      <td>10197</td>\n",
       "      <td>19980610</td>\n",
       "      <td>37</td>\n",
       "      <td>587.63</td>\n",
       "    </tr>\n",
       "  </tbody>\n",
       "</table>\n",
       "</div>"
      ],
      "text/plain": [
       "       user_id  order_date  order_num    money\n",
       "27632     8830    19980610         99  1286.01\n",
       "56479    18847    19970307         32  1119.68\n",
       "45314    14894    19970225         42  1028.51\n",
       "69416    23474    19970607         70   932.23\n",
       "65950    22279    19970726         63   915.10\n",
       "26686     8529    19970228         56   756.47\n",
       "32495    10550    19970303         43   669.93\n",
       "37453    12304    19970217         14   606.55\n",
       "11428     3537    19971107         39   597.61\n",
       "31606    10197    19980610         37   587.63"
      ]
     },
     "execution_count": 34,
     "metadata": {},
     "output_type": "execute_result"
    }
   ],
   "source": [
    "# 单笔订单金额最大的前10用户明细\n",
    "df_max_money.sort_values(by='money',ascending=False).head(10)"
   ]
  },
  {
   "cell_type": "markdown",
   "metadata": {},
   "source": [
    "## 3、各用户购买次数分析"
   ]
  },
  {
   "cell_type": "code",
   "execution_count": 35,
   "metadata": {},
   "outputs": [],
   "source": [
    "order_counts_by_user = df_cleaned.groupby('user_id').size()"
   ]
  },
  {
   "cell_type": "markdown",
   "metadata": {},
   "source": [
    "- 购买次数前10多的用户"
   ]
  },
  {
   "cell_type": "code",
   "execution_count": 36,
   "metadata": {},
   "outputs": [
    {
     "data": {
      "text/plain": [
       "user_id\n",
       "14048    217\n",
       "7592     201\n",
       "7983     149\n",
       "22061    143\n",
       "3049     117\n",
       "499      110\n",
       "19597    109\n",
       "7145     102\n",
       "2484      80\n",
       "10079     67\n",
       "dtype: int64"
      ]
     },
     "execution_count": 36,
     "metadata": {},
     "output_type": "execute_result"
    }
   ],
   "source": [
    "order_counts_by_user.sort_values(ascending=False).head(10)"
   ]
  },
  {
   "cell_type": "code",
   "execution_count": 37,
   "metadata": {},
   "outputs": [
    {
     "data": {
      "text/plain": [
       "count    23502.00\n",
       "mean         2.96\n",
       "std          4.74\n",
       "min          1.00\n",
       "25%          1.00\n",
       "50%          1.00\n",
       "75%          3.00\n",
       "max        217.00\n",
       "dtype: float64"
      ]
     },
     "execution_count": 37,
     "metadata": {},
     "output_type": "execute_result"
    }
   ],
   "source": [
    "order_counts_by_user.describe()"
   ]
  },
  {
   "cell_type": "markdown",
   "metadata": {},
   "source": [
    "分析:23502个有效用户，均用户订单数量2.96个，单用户最大订单数量217个、最小订单数量1个。"
   ]
  },
  {
   "cell_type": "markdown",
   "metadata": {},
   "source": [
    "# 四、用户消费行为动态分析"
   ]
  },
  {
   "cell_type": "markdown",
   "metadata": {},
   "source": [
    "## 1、各用户第一次和最后一次购买时间分析"
   ]
  },
  {
   "cell_type": "code",
   "execution_count": 38,
   "metadata": {},
   "outputs": [
    {
     "data": {
      "text/html": [
       "<div>\n",
       "<style scoped>\n",
       "    .dataframe tbody tr th:only-of-type {\n",
       "        vertical-align: middle;\n",
       "    }\n",
       "\n",
       "    .dataframe tbody tr th {\n",
       "        vertical-align: top;\n",
       "    }\n",
       "\n",
       "    .dataframe thead th {\n",
       "        text-align: right;\n",
       "    }\n",
       "</style>\n",
       "<table border=\"1\" class=\"dataframe\">\n",
       "  <thead>\n",
       "    <tr style=\"text-align: right;\">\n",
       "      <th></th>\n",
       "      <th>user_id</th>\n",
       "      <th>order_date</th>\n",
       "      <th>order_num</th>\n",
       "      <th>money</th>\n",
       "    </tr>\n",
       "  </thead>\n",
       "  <tbody>\n",
       "    <tr>\n",
       "      <th>29150</th>\n",
       "      <td>9359</td>\n",
       "      <td>19980630</td>\n",
       "      <td>1</td>\n",
       "      <td>18.49</td>\n",
       "    </tr>\n",
       "    <tr>\n",
       "      <th>61868</th>\n",
       "      <td>20815</td>\n",
       "      <td>19980630</td>\n",
       "      <td>4</td>\n",
       "      <td>53.46</td>\n",
       "    </tr>\n",
       "    <tr>\n",
       "      <th>19045</th>\n",
       "      <td>6042</td>\n",
       "      <td>19980630</td>\n",
       "      <td>4</td>\n",
       "      <td>77.15</td>\n",
       "    </tr>\n",
       "    <tr>\n",
       "      <th>4961</th>\n",
       "      <td>1593</td>\n",
       "      <td>19980630</td>\n",
       "      <td>3</td>\n",
       "      <td>41.99</td>\n",
       "    </tr>\n",
       "    <tr>\n",
       "      <th>13880</th>\n",
       "      <td>4358</td>\n",
       "      <td>19980630</td>\n",
       "      <td>4</td>\n",
       "      <td>56.44</td>\n",
       "    </tr>\n",
       "  </tbody>\n",
       "</table>\n",
       "</div>"
      ],
      "text/plain": [
       "       user_id  order_date  order_num  money\n",
       "29150     9359    19980630          1  18.49\n",
       "61868    20815    19980630          4  53.46\n",
       "19045     6042    19980630          4  77.15\n",
       "4961      1593    19980630          3  41.99\n",
       "13880     4358    19980630          4  56.44"
      ]
     },
     "execution_count": 38,
     "metadata": {},
     "output_type": "execute_result"
    }
   ],
   "source": [
    "df_cleaned.sort_values(by='order_date').tail()"
   ]
  },
  {
   "cell_type": "code",
   "execution_count": 39,
   "metadata": {},
   "outputs": [
    {
     "data": {
      "text/html": [
       "<div>\n",
       "<style scoped>\n",
       "    .dataframe tbody tr th:only-of-type {\n",
       "        vertical-align: middle;\n",
       "    }\n",
       "\n",
       "    .dataframe tbody tr th {\n",
       "        vertical-align: top;\n",
       "    }\n",
       "\n",
       "    .dataframe thead th {\n",
       "        text-align: right;\n",
       "    }\n",
       "</style>\n",
       "<table border=\"1\" class=\"dataframe\">\n",
       "  <thead>\n",
       "    <tr style=\"text-align: right;\">\n",
       "      <th></th>\n",
       "      <th>user_id</th>\n",
       "      <th>order_date</th>\n",
       "      <th>order_num</th>\n",
       "      <th>money</th>\n",
       "      <th>dt</th>\n",
       "    </tr>\n",
       "  </thead>\n",
       "  <tbody>\n",
       "    <tr>\n",
       "      <th>0</th>\n",
       "      <td>1</td>\n",
       "      <td>19970101</td>\n",
       "      <td>1</td>\n",
       "      <td>11.77</td>\n",
       "      <td>1997-01-01</td>\n",
       "    </tr>\n",
       "    <tr>\n",
       "      <th>1</th>\n",
       "      <td>2</td>\n",
       "      <td>19970112</td>\n",
       "      <td>1</td>\n",
       "      <td>12.00</td>\n",
       "      <td>1997-01-12</td>\n",
       "    </tr>\n",
       "    <tr>\n",
       "      <th>2</th>\n",
       "      <td>2</td>\n",
       "      <td>19970112</td>\n",
       "      <td>5</td>\n",
       "      <td>77.00</td>\n",
       "      <td>1997-01-12</td>\n",
       "    </tr>\n",
       "    <tr>\n",
       "      <th>3</th>\n",
       "      <td>3</td>\n",
       "      <td>19970102</td>\n",
       "      <td>2</td>\n",
       "      <td>20.76</td>\n",
       "      <td>1997-01-02</td>\n",
       "    </tr>\n",
       "    <tr>\n",
       "      <th>4</th>\n",
       "      <td>3</td>\n",
       "      <td>19970330</td>\n",
       "      <td>2</td>\n",
       "      <td>20.76</td>\n",
       "      <td>1997-03-30</td>\n",
       "    </tr>\n",
       "  </tbody>\n",
       "</table>\n",
       "</div>"
      ],
      "text/plain": [
       "   user_id  order_date  order_num  money         dt\n",
       "0        1    19970101          1  11.77 1997-01-01\n",
       "1        2    19970112          1  12.00 1997-01-12\n",
       "2        2    19970112          5  77.00 1997-01-12\n",
       "3        3    19970102          2  20.76 1997-01-02\n",
       "4        3    19970330          2  20.76 1997-03-30"
      ]
     },
     "execution_count": 39,
     "metadata": {},
     "output_type": "execute_result"
    }
   ],
   "source": [
    "df_cleaned['dt'] = pd.to_datetime(df_cleaned.order_date,format='%Y%m%d')\n",
    "df_cleaned.head()"
   ]
  },
  {
   "cell_type": "code",
   "execution_count": 40,
   "metadata": {},
   "outputs": [],
   "source": [
    "user_max_dt = df_cleaned.groupby('user_id').order_date.idxmax()\n",
    "user_min_dt = df_cleaned.groupby('user_id').order_date.idxmin()"
   ]
  },
  {
   "cell_type": "code",
   "execution_count": 41,
   "metadata": {},
   "outputs": [
    {
     "data": {
      "text/html": [
       "<div>\n",
       "<style scoped>\n",
       "    .dataframe tbody tr th:only-of-type {\n",
       "        vertical-align: middle;\n",
       "    }\n",
       "\n",
       "    .dataframe tbody tr th {\n",
       "        vertical-align: top;\n",
       "    }\n",
       "\n",
       "    .dataframe thead th {\n",
       "        text-align: right;\n",
       "    }\n",
       "</style>\n",
       "<table border=\"1\" class=\"dataframe\">\n",
       "  <thead>\n",
       "    <tr style=\"text-align: right;\">\n",
       "      <th></th>\n",
       "      <th>user_id</th>\n",
       "      <th>order_date</th>\n",
       "      <th>order_num</th>\n",
       "      <th>money</th>\n",
       "      <th>dt</th>\n",
       "    </tr>\n",
       "  </thead>\n",
       "  <tbody>\n",
       "    <tr>\n",
       "      <th>0</th>\n",
       "      <td>1</td>\n",
       "      <td>19970101</td>\n",
       "      <td>1</td>\n",
       "      <td>11.77</td>\n",
       "      <td>1997-01-01</td>\n",
       "    </tr>\n",
       "    <tr>\n",
       "      <th>1</th>\n",
       "      <td>2</td>\n",
       "      <td>19970112</td>\n",
       "      <td>1</td>\n",
       "      <td>12.00</td>\n",
       "      <td>1997-01-12</td>\n",
       "    </tr>\n",
       "    <tr>\n",
       "      <th>3</th>\n",
       "      <td>3</td>\n",
       "      <td>19970102</td>\n",
       "      <td>2</td>\n",
       "      <td>20.76</td>\n",
       "      <td>1997-01-02</td>\n",
       "    </tr>\n",
       "    <tr>\n",
       "      <th>9</th>\n",
       "      <td>4</td>\n",
       "      <td>19970101</td>\n",
       "      <td>2</td>\n",
       "      <td>29.33</td>\n",
       "      <td>1997-01-01</td>\n",
       "    </tr>\n",
       "    <tr>\n",
       "      <th>13</th>\n",
       "      <td>5</td>\n",
       "      <td>19970101</td>\n",
       "      <td>2</td>\n",
       "      <td>29.33</td>\n",
       "      <td>1997-01-01</td>\n",
       "    </tr>\n",
       "  </tbody>\n",
       "</table>\n",
       "</div>"
      ],
      "text/plain": [
       "    user_id  order_date  order_num  money         dt\n",
       "0         1    19970101          1  11.77 1997-01-01\n",
       "1         2    19970112          1  12.00 1997-01-12\n",
       "3         3    19970102          2  20.76 1997-01-02\n",
       "9         4    19970101          2  29.33 1997-01-01\n",
       "13        5    19970101          2  29.33 1997-01-01"
      ]
     },
     "execution_count": 41,
     "metadata": {},
     "output_type": "execute_result"
    }
   ],
   "source": [
    "# 用户第一次购买时间\n",
    "df_origin['dt']=pd.to_datetime(df_origin.order_date,format='%Y%m%d')\n",
    "first_order = df_origin.take(user_min_dt)\n",
    "first_order.head()"
   ]
  },
  {
   "cell_type": "code",
   "execution_count": 42,
   "metadata": {},
   "outputs": [
    {
     "data": {
      "text/html": [
       "<div>\n",
       "<style scoped>\n",
       "    .dataframe tbody tr th:only-of-type {\n",
       "        vertical-align: middle;\n",
       "    }\n",
       "\n",
       "    .dataframe tbody tr th {\n",
       "        vertical-align: top;\n",
       "    }\n",
       "\n",
       "    .dataframe thead th {\n",
       "        text-align: right;\n",
       "    }\n",
       "</style>\n",
       "<table border=\"1\" class=\"dataframe\">\n",
       "  <thead>\n",
       "    <tr style=\"text-align: right;\">\n",
       "      <th></th>\n",
       "      <th>user_id</th>\n",
       "      <th>order_date</th>\n",
       "      <th>order_num</th>\n",
       "      <th>money</th>\n",
       "      <th>dt</th>\n",
       "    </tr>\n",
       "  </thead>\n",
       "  <tbody>\n",
       "    <tr>\n",
       "      <th>0</th>\n",
       "      <td>1</td>\n",
       "      <td>19970101</td>\n",
       "      <td>1</td>\n",
       "      <td>11.77</td>\n",
       "      <td>1997-01-01</td>\n",
       "    </tr>\n",
       "    <tr>\n",
       "      <th>1</th>\n",
       "      <td>2</td>\n",
       "      <td>19970112</td>\n",
       "      <td>1</td>\n",
       "      <td>12.00</td>\n",
       "      <td>1997-01-12</td>\n",
       "    </tr>\n",
       "    <tr>\n",
       "      <th>8</th>\n",
       "      <td>3</td>\n",
       "      <td>19980528</td>\n",
       "      <td>1</td>\n",
       "      <td>16.99</td>\n",
       "      <td>1998-05-28</td>\n",
       "    </tr>\n",
       "    <tr>\n",
       "      <th>12</th>\n",
       "      <td>4</td>\n",
       "      <td>19971212</td>\n",
       "      <td>2</td>\n",
       "      <td>26.48</td>\n",
       "      <td>1997-12-12</td>\n",
       "    </tr>\n",
       "    <tr>\n",
       "      <th>23</th>\n",
       "      <td>5</td>\n",
       "      <td>19980103</td>\n",
       "      <td>3</td>\n",
       "      <td>37.47</td>\n",
       "      <td>1998-01-03</td>\n",
       "    </tr>\n",
       "  </tbody>\n",
       "</table>\n",
       "</div>"
      ],
      "text/plain": [
       "    user_id  order_date  order_num  money         dt\n",
       "0         1    19970101          1  11.77 1997-01-01\n",
       "1         2    19970112          1  12.00 1997-01-12\n",
       "8         3    19980528          1  16.99 1998-05-28\n",
       "12        4    19971212          2  26.48 1997-12-12\n",
       "23        5    19980103          3  37.47 1998-01-03"
      ]
     },
     "execution_count": 42,
     "metadata": {},
     "output_type": "execute_result"
    }
   ],
   "source": [
    "# 用户最后一次购买时间\n",
    "last_order = df_origin.take(user_max_dt)\n",
    "last_order.head()"
   ]
  },
  {
   "cell_type": "markdown",
   "metadata": {},
   "source": [
    "## 2、各用户最后一次消费与当前时间间隔\n",
    "注：当前时间统一用原始数据中最后1次时间，即1998-06-30"
   ]
  },
  {
   "cell_type": "code",
   "execution_count": 43,
   "metadata": {},
   "outputs": [],
   "source": [
    "now = datetime.strptime('1998-06-30',\"%Y-%m-%d\")"
   ]
  },
  {
   "cell_type": "code",
   "execution_count": 44,
   "metadata": {},
   "outputs": [
    {
     "name": "stderr",
     "output_type": "stream",
     "text": [
      "d:\\python35\\lib\\site-packages\\pandas\\core\\indexing.py:362: SettingWithCopyWarning: \n",
      "A value is trying to be set on a copy of a slice from a DataFrame.\n",
      "Try using .loc[row_indexer,col_indexer] = value instead\n",
      "\n",
      "See the caveats in the documentation: http://pandas.pydata.org/pandas-docs/stable/indexing.html#indexing-view-versus-copy\n",
      "  self.obj[key] = _infer_fill_value(value)\n",
      "d:\\python35\\lib\\site-packages\\pandas\\core\\indexing.py:543: SettingWithCopyWarning: \n",
      "A value is trying to be set on a copy of a slice from a DataFrame.\n",
      "Try using .loc[row_indexer,col_indexer] = value instead\n",
      "\n",
      "See the caveats in the documentation: http://pandas.pydata.org/pandas-docs/stable/indexing.html#indexing-view-versus-copy\n",
      "  self.obj[item] = s\n"
     ]
    },
    {
     "data": {
      "text/html": [
       "<div>\n",
       "<style scoped>\n",
       "    .dataframe tbody tr th:only-of-type {\n",
       "        vertical-align: middle;\n",
       "    }\n",
       "\n",
       "    .dataframe tbody tr th {\n",
       "        vertical-align: top;\n",
       "    }\n",
       "\n",
       "    .dataframe thead th {\n",
       "        text-align: right;\n",
       "    }\n",
       "</style>\n",
       "<table border=\"1\" class=\"dataframe\">\n",
       "  <thead>\n",
       "    <tr style=\"text-align: right;\">\n",
       "      <th></th>\n",
       "      <th>user_id</th>\n",
       "      <th>order_date</th>\n",
       "      <th>order_num</th>\n",
       "      <th>money</th>\n",
       "      <th>dt</th>\n",
       "      <th>now_diff_dt</th>\n",
       "    </tr>\n",
       "  </thead>\n",
       "  <tbody>\n",
       "    <tr>\n",
       "      <th>0</th>\n",
       "      <td>1</td>\n",
       "      <td>19970101</td>\n",
       "      <td>1</td>\n",
       "      <td>11.77</td>\n",
       "      <td>1997-01-01</td>\n",
       "      <td>545 days</td>\n",
       "    </tr>\n",
       "    <tr>\n",
       "      <th>1</th>\n",
       "      <td>2</td>\n",
       "      <td>19970112</td>\n",
       "      <td>1</td>\n",
       "      <td>12.00</td>\n",
       "      <td>1997-01-12</td>\n",
       "      <td>534 days</td>\n",
       "    </tr>\n",
       "    <tr>\n",
       "      <th>8</th>\n",
       "      <td>3</td>\n",
       "      <td>19980528</td>\n",
       "      <td>1</td>\n",
       "      <td>16.99</td>\n",
       "      <td>1998-05-28</td>\n",
       "      <td>33 days</td>\n",
       "    </tr>\n",
       "    <tr>\n",
       "      <th>12</th>\n",
       "      <td>4</td>\n",
       "      <td>19971212</td>\n",
       "      <td>2</td>\n",
       "      <td>26.48</td>\n",
       "      <td>1997-12-12</td>\n",
       "      <td>200 days</td>\n",
       "    </tr>\n",
       "    <tr>\n",
       "      <th>23</th>\n",
       "      <td>5</td>\n",
       "      <td>19980103</td>\n",
       "      <td>3</td>\n",
       "      <td>37.47</td>\n",
       "      <td>1998-01-03</td>\n",
       "      <td>178 days</td>\n",
       "    </tr>\n",
       "  </tbody>\n",
       "</table>\n",
       "</div>"
      ],
      "text/plain": [
       "    user_id  order_date  order_num  money         dt now_diff_dt\n",
       "0         1    19970101          1  11.77 1997-01-01    545 days\n",
       "1         2    19970112          1  12.00 1997-01-12    534 days\n",
       "8         3    19980528          1  16.99 1998-05-28     33 days\n",
       "12        4    19971212          2  26.48 1997-12-12    200 days\n",
       "23        5    19980103          3  37.47 1998-01-03    178 days"
      ]
     },
     "execution_count": 44,
     "metadata": {},
     "output_type": "execute_result"
    }
   ],
   "source": [
    "last_order.loc[:,'now_diff_dt'] = now - last_order.dt\n",
    "last_order.head()"
   ]
  },
  {
   "cell_type": "markdown",
   "metadata": {},
   "source": [
    "## 3、各用户生命周期分析"
   ]
  },
  {
   "cell_type": "code",
   "execution_count": 45,
   "metadata": {},
   "outputs": [],
   "source": [
    "# 使用用户user_od做为索引\n",
    "last_order.set_index('user_id',inplace=True)\n",
    "first_order.set_index('user_id',inplace=True)"
   ]
  },
  {
   "cell_type": "code",
   "execution_count": 46,
   "metadata": {},
   "outputs": [
    {
     "data": {
      "text/html": [
       "<div>\n",
       "<style scoped>\n",
       "    .dataframe tbody tr th:only-of-type {\n",
       "        vertical-align: middle;\n",
       "    }\n",
       "\n",
       "    .dataframe tbody tr th {\n",
       "        vertical-align: top;\n",
       "    }\n",
       "\n",
       "    .dataframe thead th {\n",
       "        text-align: right;\n",
       "    }\n",
       "</style>\n",
       "<table border=\"1\" class=\"dataframe\">\n",
       "  <thead>\n",
       "    <tr style=\"text-align: right;\">\n",
       "      <th></th>\n",
       "      <th>order_date</th>\n",
       "      <th>order_num</th>\n",
       "      <th>money</th>\n",
       "      <th>dt</th>\n",
       "      <th>now_diff_dt</th>\n",
       "    </tr>\n",
       "    <tr>\n",
       "      <th>user_id</th>\n",
       "      <th></th>\n",
       "      <th></th>\n",
       "      <th></th>\n",
       "      <th></th>\n",
       "      <th></th>\n",
       "    </tr>\n",
       "  </thead>\n",
       "  <tbody>\n",
       "    <tr>\n",
       "      <th>1</th>\n",
       "      <td>19970101</td>\n",
       "      <td>1</td>\n",
       "      <td>11.77</td>\n",
       "      <td>1997-01-01</td>\n",
       "      <td>545 days</td>\n",
       "    </tr>\n",
       "    <tr>\n",
       "      <th>2</th>\n",
       "      <td>19970112</td>\n",
       "      <td>1</td>\n",
       "      <td>12.00</td>\n",
       "      <td>1997-01-12</td>\n",
       "      <td>534 days</td>\n",
       "    </tr>\n",
       "    <tr>\n",
       "      <th>3</th>\n",
       "      <td>19980528</td>\n",
       "      <td>1</td>\n",
       "      <td>16.99</td>\n",
       "      <td>1998-05-28</td>\n",
       "      <td>33 days</td>\n",
       "    </tr>\n",
       "    <tr>\n",
       "      <th>4</th>\n",
       "      <td>19971212</td>\n",
       "      <td>2</td>\n",
       "      <td>26.48</td>\n",
       "      <td>1997-12-12</td>\n",
       "      <td>200 days</td>\n",
       "    </tr>\n",
       "    <tr>\n",
       "      <th>5</th>\n",
       "      <td>19980103</td>\n",
       "      <td>3</td>\n",
       "      <td>37.47</td>\n",
       "      <td>1998-01-03</td>\n",
       "      <td>178 days</td>\n",
       "    </tr>\n",
       "  </tbody>\n",
       "</table>\n",
       "</div>"
      ],
      "text/plain": [
       "         order_date  order_num  money         dt now_diff_dt\n",
       "user_id                                                     \n",
       "1          19970101          1  11.77 1997-01-01    545 days\n",
       "2          19970112          1  12.00 1997-01-12    534 days\n",
       "3          19980528          1  16.99 1998-05-28     33 days\n",
       "4          19971212          2  26.48 1997-12-12    200 days\n",
       "5          19980103          3  37.47 1998-01-03    178 days"
      ]
     },
     "execution_count": 46,
     "metadata": {},
     "output_type": "execute_result"
    }
   ],
   "source": [
    "last_order.head()"
   ]
  },
  {
   "cell_type": "code",
   "execution_count": 47,
   "metadata": {},
   "outputs": [
    {
     "data": {
      "text/html": [
       "<div>\n",
       "<style scoped>\n",
       "    .dataframe tbody tr th:only-of-type {\n",
       "        vertical-align: middle;\n",
       "    }\n",
       "\n",
       "    .dataframe tbody tr th {\n",
       "        vertical-align: top;\n",
       "    }\n",
       "\n",
       "    .dataframe thead th {\n",
       "        text-align: right;\n",
       "    }\n",
       "</style>\n",
       "<table border=\"1\" class=\"dataframe\">\n",
       "  <thead>\n",
       "    <tr style=\"text-align: right;\">\n",
       "      <th></th>\n",
       "      <th>order_date</th>\n",
       "      <th>order_num</th>\n",
       "      <th>money</th>\n",
       "      <th>dt</th>\n",
       "    </tr>\n",
       "    <tr>\n",
       "      <th>user_id</th>\n",
       "      <th></th>\n",
       "      <th></th>\n",
       "      <th></th>\n",
       "      <th></th>\n",
       "    </tr>\n",
       "  </thead>\n",
       "  <tbody>\n",
       "    <tr>\n",
       "      <th>1</th>\n",
       "      <td>19970101</td>\n",
       "      <td>1</td>\n",
       "      <td>11.77</td>\n",
       "      <td>1997-01-01</td>\n",
       "    </tr>\n",
       "    <tr>\n",
       "      <th>2</th>\n",
       "      <td>19970112</td>\n",
       "      <td>1</td>\n",
       "      <td>12.00</td>\n",
       "      <td>1997-01-12</td>\n",
       "    </tr>\n",
       "    <tr>\n",
       "      <th>3</th>\n",
       "      <td>19970102</td>\n",
       "      <td>2</td>\n",
       "      <td>20.76</td>\n",
       "      <td>1997-01-02</td>\n",
       "    </tr>\n",
       "    <tr>\n",
       "      <th>4</th>\n",
       "      <td>19970101</td>\n",
       "      <td>2</td>\n",
       "      <td>29.33</td>\n",
       "      <td>1997-01-01</td>\n",
       "    </tr>\n",
       "    <tr>\n",
       "      <th>5</th>\n",
       "      <td>19970101</td>\n",
       "      <td>2</td>\n",
       "      <td>29.33</td>\n",
       "      <td>1997-01-01</td>\n",
       "    </tr>\n",
       "  </tbody>\n",
       "</table>\n",
       "</div>"
      ],
      "text/plain": [
       "         order_date  order_num  money         dt\n",
       "user_id                                         \n",
       "1          19970101          1  11.77 1997-01-01\n",
       "2          19970112          1  12.00 1997-01-12\n",
       "3          19970102          2  20.76 1997-01-02\n",
       "4          19970101          2  29.33 1997-01-01\n",
       "5          19970101          2  29.33 1997-01-01"
      ]
     },
     "execution_count": 47,
     "metadata": {},
     "output_type": "execute_result"
    }
   ],
   "source": [
    "first_order.head()"
   ]
  },
  {
   "cell_type": "code",
   "execution_count": 48,
   "metadata": {},
   "outputs": [
    {
     "name": "stderr",
     "output_type": "stream",
     "text": [
      "d:\\python35\\lib\\site-packages\\ipykernel_launcher.py:1: SettingWithCopyWarning: \n",
      "A value is trying to be set on a copy of a slice from a DataFrame.\n",
      "Try using .loc[row_indexer,col_indexer] = value instead\n",
      "\n",
      "See the caveats in the documentation: http://pandas.pydata.org/pandas-docs/stable/indexing.html#indexing-view-versus-copy\n",
      "  \"\"\"Entry point for launching an IPython kernel.\n"
     ]
    },
    {
     "data": {
      "text/html": [
       "<div>\n",
       "<style scoped>\n",
       "    .dataframe tbody tr th:only-of-type {\n",
       "        vertical-align: middle;\n",
       "    }\n",
       "\n",
       "    .dataframe tbody tr th {\n",
       "        vertical-align: top;\n",
       "    }\n",
       "\n",
       "    .dataframe thead th {\n",
       "        text-align: right;\n",
       "    }\n",
       "</style>\n",
       "<table border=\"1\" class=\"dataframe\">\n",
       "  <thead>\n",
       "    <tr style=\"text-align: right;\">\n",
       "      <th></th>\n",
       "      <th>order_date</th>\n",
       "      <th>order_num</th>\n",
       "      <th>money</th>\n",
       "      <th>dt</th>\n",
       "      <th>now_diff_dt</th>\n",
       "      <th>ttl</th>\n",
       "    </tr>\n",
       "    <tr>\n",
       "      <th>user_id</th>\n",
       "      <th></th>\n",
       "      <th></th>\n",
       "      <th></th>\n",
       "      <th></th>\n",
       "      <th></th>\n",
       "      <th></th>\n",
       "    </tr>\n",
       "  </thead>\n",
       "  <tbody>\n",
       "    <tr>\n",
       "      <th>1</th>\n",
       "      <td>19970101</td>\n",
       "      <td>1</td>\n",
       "      <td>11.77</td>\n",
       "      <td>1997-01-01</td>\n",
       "      <td>545 days</td>\n",
       "      <td>0 days</td>\n",
       "    </tr>\n",
       "    <tr>\n",
       "      <th>2</th>\n",
       "      <td>19970112</td>\n",
       "      <td>1</td>\n",
       "      <td>12.00</td>\n",
       "      <td>1997-01-12</td>\n",
       "      <td>534 days</td>\n",
       "      <td>0 days</td>\n",
       "    </tr>\n",
       "    <tr>\n",
       "      <th>3</th>\n",
       "      <td>19980528</td>\n",
       "      <td>1</td>\n",
       "      <td>16.99</td>\n",
       "      <td>1998-05-28</td>\n",
       "      <td>33 days</td>\n",
       "      <td>511 days</td>\n",
       "    </tr>\n",
       "    <tr>\n",
       "      <th>4</th>\n",
       "      <td>19971212</td>\n",
       "      <td>2</td>\n",
       "      <td>26.48</td>\n",
       "      <td>1997-12-12</td>\n",
       "      <td>200 days</td>\n",
       "      <td>345 days</td>\n",
       "    </tr>\n",
       "    <tr>\n",
       "      <th>5</th>\n",
       "      <td>19980103</td>\n",
       "      <td>3</td>\n",
       "      <td>37.47</td>\n",
       "      <td>1998-01-03</td>\n",
       "      <td>178 days</td>\n",
       "      <td>367 days</td>\n",
       "    </tr>\n",
       "  </tbody>\n",
       "</table>\n",
       "</div>"
      ],
      "text/plain": [
       "         order_date  order_num  money         dt now_diff_dt      ttl\n",
       "user_id                                                              \n",
       "1          19970101          1  11.77 1997-01-01    545 days   0 days\n",
       "2          19970112          1  12.00 1997-01-12    534 days   0 days\n",
       "3          19980528          1  16.99 1998-05-28     33 days 511 days\n",
       "4          19971212          2  26.48 1997-12-12    200 days 345 days\n",
       "5          19980103          3  37.47 1998-01-03    178 days 367 days"
      ]
     },
     "execution_count": 48,
     "metadata": {},
     "output_type": "execute_result"
    }
   ],
   "source": [
    "last_order['ttl'] = last_order.dt - first_order.dt\n",
    "last_order.head()"
   ]
  },
  {
   "cell_type": "markdown",
   "metadata": {},
   "source": [
    "计算出生命周期来（time to live）"
   ]
  },
  {
   "cell_type": "code",
   "execution_count": 49,
   "metadata": {},
   "outputs": [
    {
     "data": {
      "text/plain": [
       "user_id\n",
       "1      0.0\n",
       "2      0.0\n",
       "3    511.0\n",
       "4    345.0\n",
       "5    367.0\n",
       "Name: ttl, dtype: float64"
      ]
     },
     "execution_count": 49,
     "metadata": {},
     "output_type": "execute_result"
    }
   ],
   "source": [
    "last_order.ttl.astype(str)\n",
    "ttl = last_order.ttl/np.timedelta64(1,'D')\n",
    "ttl.head()"
   ]
  },
  {
   "cell_type": "code",
   "execution_count": 50,
   "metadata": {},
   "outputs": [
    {
     "data": {
      "text/plain": [
       "user_id\n",
       "3    511.0\n",
       "4    345.0\n",
       "5    367.0\n",
       "7    445.0\n",
       "8    452.0\n",
       "Name: ttl, dtype: float64"
      ]
     },
     "execution_count": 50,
     "metadata": {},
     "output_type": "execute_result"
    }
   ],
   "source": [
    "ttl_data = ttl[ttl>0]\n",
    "ttl_data.head()"
   ]
  },
  {
   "cell_type": "code",
   "execution_count": 51,
   "metadata": {},
   "outputs": [
    {
     "data": {
      "text/plain": [
       "<matplotlib.axes._subplots.AxesSubplot at 0x1cbaa7b8>"
      ]
     },
     "execution_count": 51,
     "metadata": {},
     "output_type": "execute_result"
    },
    {
     "data": {
      "image/png": "[encoded data removed]",
      "text/plain": [
       "<Figure size 432x288 with 1 Axes>"
      ]
     },
     "metadata": {
      "needs_background": "light"
     },
     "output_type": "display_data"
    }
   ],
   "source": [
    "ttl_data.hist(bins=50)"
   ]
  },
  {
   "cell_type": "markdown",
   "metadata": {},
   "source": [
    "- 忠诚用户生命周期在300天之上。50天以下的用户也比较集中。\n",
    "- 双峰图。"
   ]
  },
  {
   "cell_type": "markdown",
   "metadata": {},
   "source": [
    "## 4、各用户首次回购周期"
   ]
  },
  {
   "cell_type": "markdown",
   "metadata": {},
   "source": [
    "- 取前两次消费记录"
   ]
  },
  {
   "cell_type": "code",
   "execution_count": 285,
   "metadata": {},
   "outputs": [
    {
     "data": {
      "text/plain": [
       "user_id\n",
       "2     0 days 00:00:00\n",
       "3    43 days 12:00:00\n",
       "4     8 days 12:00:00\n",
       "5     6 days 12:00:00\n",
       "7   141 days 12:00:00\n",
       "Name: dt, dtype: timedelta64[ns]"
      ]
     },
     "execution_count": 285,
     "metadata": {},
     "output_type": "execute_result"
    }
   ],
   "source": [
    "# gg = df_cleaned.groupby('user_id')['dt'].value_counts().rename('count').reset_index()\n",
    "df_cleaned.sort_values(['user_id','dt'],ascending=[1,1],inplace=True)\n",
    "gg = df_cleaned.groupby('user_id').head(2)\n",
    "grouped1 = gg.groupby('user_id').dt\n",
    "# grouped = grouped[grouped.size()>1]\n",
    "bool_choice1 = grouped1.size() > 1\n",
    "res1 = (grouped1.max()[bool_choice1]-grouped1.min()[bool_choice1]) / grouped1.size()[bool_choice1]\n",
    "res1.head()"
   ]
  },
  {
   "cell_type": "code",
   "execution_count": 286,
   "metadata": {},
   "outputs": [
    {
     "data": {
      "text/plain": [
       "Timedelta('54 days 04:36:13.771335')"
      ]
     },
     "execution_count": 286,
     "metadata": {},
     "output_type": "execute_result"
    }
   ],
   "source": [
    "res1.mean()"
   ]
  },
  {
   "cell_type": "markdown",
   "metadata": {},
   "source": [
    "## 5、各用户平均购买周期"
   ]
  },
  {
   "cell_type": "code",
   "execution_count": 287,
   "metadata": {},
   "outputs": [
    {
     "data": {
      "text/plain": [
       "user_id\n",
       "2           0 days 00:00:00\n",
       "3          85 days 04:00:00\n",
       "4          86 days 06:00:00\n",
       "5   33 days 08:43:38.181818\n",
       "7         148 days 08:00:00\n",
       "Name: dt, dtype: timedelta64[ns]"
      ]
     },
     "execution_count": 287,
     "metadata": {},
     "output_type": "execute_result"
    }
   ],
   "source": [
    "grouped = df_cleaned.sort_values(by='dt').groupby('user_id').dt\n",
    "# grouped = grouped[grouped.size()>1]\n",
    "bool_choice = grouped.size() > 1\n",
    "res = (grouped.max()[bool_choice]-grouped.min()[bool_choice]) / grouped.size()[bool_choice]\n",
    "# print(res)\n",
    "res.head()"
   ]
  },
  {
   "cell_type": "code",
   "execution_count": 288,
   "metadata": {},
   "outputs": [
    {
     "data": {
      "text/plain": [
       "Timedelta('69 days 23:41:08.058687')"
      ]
     },
     "execution_count": 288,
     "metadata": {},
     "output_type": "execute_result"
    }
   ],
   "source": [
    "res.mean()"
   ]
  },
  {
   "cell_type": "code",
   "execution_count": null,
   "metadata": {},
   "outputs": [],
   "source": [
    "# # # print(grouped.dt-grouped.dt.shift[-1])\n",
    "# def buy_back(g,n = g[1].shape[0]):     \n",
    "#     if g[1].shape[0] < 2:\n",
    "#         dif = pd.to_timedelta(0)\n",
    "#     else:\n",
    "#         dif = g[1].sort_values()[1:n].values-g[1].sort_values()[:-1].values    \n",
    "#         dif = pd.to_timedelta(dif.mean())\n",
    "    \n",
    "#     return dif\n",
    "# # for g in grouped:\n",
    "# # #     print(g[1]-g[1].shift(-1))\n",
    "# # #     print(type(g))\n",
    "# #     dif = g[1]-g[1].shift(-1)\n",
    "# #     g = (g[0],dif)\n",
    "# #     print(g)\n",
    "# res = [buy_back(g,n=2) for g in grouped]    \n",
    "# def buy_back(g): \n",
    "#     dif = g[1]-g[1].shift(-1)\n",
    "#     g = (g[0],dif)    \n",
    "#     return g\n",
    "# res "
   ]
  },
  {
   "cell_type": "code",
   "execution_count": null,
   "metadata": {},
   "outputs": [],
   "source": [
    "# user_pivot = df_cleaned.pivot_table(index=['user_id','dt'],values=\"order_date\",aggfunc='count')\n",
    "# t = user_pivot.reset_index()\n",
    "# # user_pivot.index\n",
    "# t.head()"
   ]
  },
  {
   "cell_type": "code",
   "execution_count": null,
   "metadata": {
    "scrolled": true
   },
   "outputs": [],
   "source": [
    "# def buy_back(g): \n",
    "#     dif = g.dt-g.dt.shift(-1)\n",
    "    \n",
    "#     return dif\n",
    "# t = t.set_index('user_id')\n",
    "# t.head()"
   ]
  },
  {
   "cell_type": "markdown",
   "metadata": {},
   "source": [
    "## 6、各用户月复购率"
   ]
  },
  {
   "cell_type": "code",
   "execution_count": 289,
   "metadata": {},
   "outputs": [
    {
     "data": {
      "text/html": [
       "<div>\n",
       "<style scoped>\n",
       "    .dataframe tbody tr th:only-of-type {\n",
       "        vertical-align: middle;\n",
       "    }\n",
       "\n",
       "    .dataframe tbody tr th {\n",
       "        vertical-align: top;\n",
       "    }\n",
       "\n",
       "    .dataframe thead th {\n",
       "        text-align: right;\n",
       "    }\n",
       "</style>\n",
       "<table border=\"1\" class=\"dataframe\">\n",
       "  <thead>\n",
       "    <tr style=\"text-align: right;\">\n",
       "      <th></th>\n",
       "      <th>user_id</th>\n",
       "      <th>order_date</th>\n",
       "      <th>order_num</th>\n",
       "      <th>money</th>\n",
       "      <th>dt</th>\n",
       "    </tr>\n",
       "  </thead>\n",
       "  <tbody>\n",
       "    <tr>\n",
       "      <th>0</th>\n",
       "      <td>1</td>\n",
       "      <td>19970101</td>\n",
       "      <td>1</td>\n",
       "      <td>11.77</td>\n",
       "      <td>1997-01-01</td>\n",
       "    </tr>\n",
       "    <tr>\n",
       "      <th>1</th>\n",
       "      <td>2</td>\n",
       "      <td>19970112</td>\n",
       "      <td>1</td>\n",
       "      <td>12.00</td>\n",
       "      <td>1997-01-12</td>\n",
       "    </tr>\n",
       "    <tr>\n",
       "      <th>2</th>\n",
       "      <td>2</td>\n",
       "      <td>19970112</td>\n",
       "      <td>5</td>\n",
       "      <td>77.00</td>\n",
       "      <td>1997-01-12</td>\n",
       "    </tr>\n",
       "    <tr>\n",
       "      <th>3</th>\n",
       "      <td>3</td>\n",
       "      <td>19970102</td>\n",
       "      <td>2</td>\n",
       "      <td>20.76</td>\n",
       "      <td>1997-01-02</td>\n",
       "    </tr>\n",
       "    <tr>\n",
       "      <th>4</th>\n",
       "      <td>3</td>\n",
       "      <td>19970330</td>\n",
       "      <td>2</td>\n",
       "      <td>20.76</td>\n",
       "      <td>1997-03-30</td>\n",
       "    </tr>\n",
       "  </tbody>\n",
       "</table>\n",
       "</div>"
      ],
      "text/plain": [
       "   user_id  order_date  order_num  money         dt\n",
       "0        1    19970101          1  11.77 1997-01-01\n",
       "1        2    19970112          1  12.00 1997-01-12\n",
       "2        2    19970112          5  77.00 1997-01-12\n",
       "3        3    19970102          2  20.76 1997-01-02\n",
       "4        3    19970330          2  20.76 1997-03-30"
      ]
     },
     "execution_count": 289,
     "metadata": {},
     "output_type": "execute_result"
    }
   ],
   "source": [
    "df_cleaned.head()"
   ]
  },
  {
   "cell_type": "markdown",
   "metadata": {},
   "source": [
    "- 增加月份列"
   ]
  },
  {
   "cell_type": "code",
   "execution_count": 356,
   "metadata": {},
   "outputs": [
    {
     "data": {
      "text/html": [
       "<div>\n",
       "<style scoped>\n",
       "    .dataframe tbody tr th:only-of-type {\n",
       "        vertical-align: middle;\n",
       "    }\n",
       "\n",
       "    .dataframe tbody tr th {\n",
       "        vertical-align: top;\n",
       "    }\n",
       "\n",
       "    .dataframe thead th {\n",
       "        text-align: right;\n",
       "    }\n",
       "</style>\n",
       "<table border=\"1\" class=\"dataframe\">\n",
       "  <thead>\n",
       "    <tr style=\"text-align: right;\">\n",
       "      <th></th>\n",
       "      <th>user_id</th>\n",
       "      <th>order_date</th>\n",
       "      <th>order_num</th>\n",
       "      <th>money</th>\n",
       "      <th>dt</th>\n",
       "      <th>month</th>\n",
       "    </tr>\n",
       "  </thead>\n",
       "  <tbody>\n",
       "    <tr>\n",
       "      <th>0</th>\n",
       "      <td>1</td>\n",
       "      <td>19970101</td>\n",
       "      <td>1</td>\n",
       "      <td>11.77</td>\n",
       "      <td>1997-01-01</td>\n",
       "      <td>1997-01</td>\n",
       "    </tr>\n",
       "    <tr>\n",
       "      <th>1</th>\n",
       "      <td>2</td>\n",
       "      <td>19970112</td>\n",
       "      <td>1</td>\n",
       "      <td>12.00</td>\n",
       "      <td>1997-01-12</td>\n",
       "      <td>1997-01</td>\n",
       "    </tr>\n",
       "    <tr>\n",
       "      <th>2</th>\n",
       "      <td>2</td>\n",
       "      <td>19970112</td>\n",
       "      <td>5</td>\n",
       "      <td>77.00</td>\n",
       "      <td>1997-01-12</td>\n",
       "      <td>1997-01</td>\n",
       "    </tr>\n",
       "    <tr>\n",
       "      <th>3</th>\n",
       "      <td>3</td>\n",
       "      <td>19970102</td>\n",
       "      <td>2</td>\n",
       "      <td>20.76</td>\n",
       "      <td>1997-01-02</td>\n",
       "      <td>1997-01</td>\n",
       "    </tr>\n",
       "    <tr>\n",
       "      <th>4</th>\n",
       "      <td>3</td>\n",
       "      <td>19970330</td>\n",
       "      <td>2</td>\n",
       "      <td>20.76</td>\n",
       "      <td>1997-03-30</td>\n",
       "      <td>1997-03</td>\n",
       "    </tr>\n",
       "  </tbody>\n",
       "</table>\n",
       "</div>"
      ],
      "text/plain": [
       "   user_id  order_date  order_num  money         dt   month\n",
       "0        1    19970101          1  11.77 1997-01-01 1997-01\n",
       "1        2    19970112          1  12.00 1997-01-12 1997-01\n",
       "2        2    19970112          5  77.00 1997-01-12 1997-01\n",
       "3        3    19970102          2  20.76 1997-01-02 1997-01\n",
       "4        3    19970330          2  20.76 1997-03-30 1997-03"
      ]
     },
     "execution_count": 356,
     "metadata": {},
     "output_type": "execute_result"
    }
   ],
   "source": [
    "# df_cleaned['month'] = df_cleaned.order_date.values.astype('datetime64[M]')\n",
    "# print(df_cleaned.head())\n",
    "df_cleaned['dt'] = pd.to_datetime(df_cleaned.order_date,format='%Y%m%d')\n",
    "# help(pd.to_datetime)\n",
    "df_cleaned['month'] =  df_cleaned.set_index('dt').index.to_period('M')\n",
    "df_cleaned.head()"
   ]
  },
  {
   "cell_type": "markdown",
   "metadata": {},
   "source": [
    "- 各月复购率"
   ]
  },
  {
   "cell_type": "code",
   "execution_count": 385,
   "metadata": {},
   "outputs": [
    {
     "data": {
      "text/html": [
       "<div>\n",
       "<style scoped>\n",
       "    .dataframe tbody tr th:only-of-type {\n",
       "        vertical-align: middle;\n",
       "    }\n",
       "\n",
       "    .dataframe tbody tr th {\n",
       "        vertical-align: top;\n",
       "    }\n",
       "\n",
       "    .dataframe thead th {\n",
       "        text-align: right;\n",
       "    }\n",
       "</style>\n",
       "<table border=\"1\" class=\"dataframe\">\n",
       "  <thead>\n",
       "    <tr style=\"text-align: right;\">\n",
       "      <th>user_id</th>\n",
       "      <th>1</th>\n",
       "      <th>2</th>\n",
       "      <th>3</th>\n",
       "      <th>4</th>\n",
       "      <th>5</th>\n",
       "      <th>6</th>\n",
       "      <th>7</th>\n",
       "      <th>8</th>\n",
       "      <th>9</th>\n",
       "      <th>10</th>\n",
       "      <th>...</th>\n",
       "      <th>23561</th>\n",
       "      <th>23562</th>\n",
       "      <th>23563</th>\n",
       "      <th>23564</th>\n",
       "      <th>23565</th>\n",
       "      <th>23566</th>\n",
       "      <th>23567</th>\n",
       "      <th>23568</th>\n",
       "      <th>23569</th>\n",
       "      <th>23570</th>\n",
       "    </tr>\n",
       "    <tr>\n",
       "      <th>month</th>\n",
       "      <th></th>\n",
       "      <th></th>\n",
       "      <th></th>\n",
       "      <th></th>\n",
       "      <th></th>\n",
       "      <th></th>\n",
       "      <th></th>\n",
       "      <th></th>\n",
       "      <th></th>\n",
       "      <th></th>\n",
       "      <th></th>\n",
       "      <th></th>\n",
       "      <th></th>\n",
       "      <th></th>\n",
       "      <th></th>\n",
       "      <th></th>\n",
       "      <th></th>\n",
       "      <th></th>\n",
       "      <th></th>\n",
       "      <th></th>\n",
       "      <th></th>\n",
       "    </tr>\n",
       "  </thead>\n",
       "  <tbody>\n",
       "    <tr>\n",
       "      <th>1997-01</th>\n",
       "      <td>1.0</td>\n",
       "      <td>2.0</td>\n",
       "      <td>1.0</td>\n",
       "      <td>2.0</td>\n",
       "      <td>2.0</td>\n",
       "      <td>1.0</td>\n",
       "      <td>1.0</td>\n",
       "      <td>1.0</td>\n",
       "      <td>1.0</td>\n",
       "      <td>1.0</td>\n",
       "      <td>...</td>\n",
       "      <td>NaN</td>\n",
       "      <td>NaN</td>\n",
       "      <td>NaN</td>\n",
       "      <td>NaN</td>\n",
       "      <td>NaN</td>\n",
       "      <td>NaN</td>\n",
       "      <td>NaN</td>\n",
       "      <td>NaN</td>\n",
       "      <td>NaN</td>\n",
       "      <td>NaN</td>\n",
       "    </tr>\n",
       "    <tr>\n",
       "      <th>1997-02</th>\n",
       "      <td>NaN</td>\n",
       "      <td>NaN</td>\n",
       "      <td>NaN</td>\n",
       "      <td>NaN</td>\n",
       "      <td>1.0</td>\n",
       "      <td>NaN</td>\n",
       "      <td>NaN</td>\n",
       "      <td>1.0</td>\n",
       "      <td>NaN</td>\n",
       "      <td>NaN</td>\n",
       "      <td>...</td>\n",
       "      <td>NaN</td>\n",
       "      <td>NaN</td>\n",
       "      <td>NaN</td>\n",
       "      <td>NaN</td>\n",
       "      <td>NaN</td>\n",
       "      <td>NaN</td>\n",
       "      <td>NaN</td>\n",
       "      <td>NaN</td>\n",
       "      <td>NaN</td>\n",
       "      <td>NaN</td>\n",
       "    </tr>\n",
       "    <tr>\n",
       "      <th>1997-03</th>\n",
       "      <td>NaN</td>\n",
       "      <td>NaN</td>\n",
       "      <td>1.0</td>\n",
       "      <td>NaN</td>\n",
       "      <td>NaN</td>\n",
       "      <td>NaN</td>\n",
       "      <td>NaN</td>\n",
       "      <td>NaN</td>\n",
       "      <td>NaN</td>\n",
       "      <td>NaN</td>\n",
       "      <td>...</td>\n",
       "      <td>1.0</td>\n",
       "      <td>1.0</td>\n",
       "      <td>1.0</td>\n",
       "      <td>1.0</td>\n",
       "      <td>1.0</td>\n",
       "      <td>1.0</td>\n",
       "      <td>1.0</td>\n",
       "      <td>1.0</td>\n",
       "      <td>1.0</td>\n",
       "      <td>2.0</td>\n",
       "    </tr>\n",
       "    <tr>\n",
       "      <th>1997-04</th>\n",
       "      <td>NaN</td>\n",
       "      <td>NaN</td>\n",
       "      <td>1.0</td>\n",
       "      <td>NaN</td>\n",
       "      <td>1.0</td>\n",
       "      <td>NaN</td>\n",
       "      <td>NaN</td>\n",
       "      <td>NaN</td>\n",
       "      <td>NaN</td>\n",
       "      <td>NaN</td>\n",
       "      <td>...</td>\n",
       "      <td>NaN</td>\n",
       "      <td>NaN</td>\n",
       "      <td>NaN</td>\n",
       "      <td>NaN</td>\n",
       "      <td>NaN</td>\n",
       "      <td>NaN</td>\n",
       "      <td>NaN</td>\n",
       "      <td>2.0</td>\n",
       "      <td>NaN</td>\n",
       "      <td>NaN</td>\n",
       "    </tr>\n",
       "    <tr>\n",
       "      <th>1997-05</th>\n",
       "      <td>NaN</td>\n",
       "      <td>NaN</td>\n",
       "      <td>NaN</td>\n",
       "      <td>NaN</td>\n",
       "      <td>1.0</td>\n",
       "      <td>NaN</td>\n",
       "      <td>NaN</td>\n",
       "      <td>NaN</td>\n",
       "      <td>1.0</td>\n",
       "      <td>NaN</td>\n",
       "      <td>...</td>\n",
       "      <td>NaN</td>\n",
       "      <td>NaN</td>\n",
       "      <td>NaN</td>\n",
       "      <td>1.0</td>\n",
       "      <td>NaN</td>\n",
       "      <td>NaN</td>\n",
       "      <td>NaN</td>\n",
       "      <td>NaN</td>\n",
       "      <td>NaN</td>\n",
       "      <td>NaN</td>\n",
       "    </tr>\n",
       "  </tbody>\n",
       "</table>\n",
       "<p>5 rows × 23502 columns</p>\n",
       "</div>"
      ],
      "text/plain": [
       "user_id  1      2      3      4      5      6      7      8      9      10     \\\n",
       "month                                                                           \n",
       "1997-01    1.0    2.0    1.0    2.0    2.0    1.0    1.0    1.0    1.0    1.0   \n",
       "1997-02    NaN    NaN    NaN    NaN    1.0    NaN    NaN    1.0    NaN    NaN   \n",
       "1997-03    NaN    NaN    1.0    NaN    NaN    NaN    NaN    NaN    NaN    NaN   \n",
       "1997-04    NaN    NaN    1.0    NaN    1.0    NaN    NaN    NaN    NaN    NaN   \n",
       "1997-05    NaN    NaN    NaN    NaN    1.0    NaN    NaN    NaN    1.0    NaN   \n",
       "\n",
       "user_id  ...    23561  23562  23563  23564  23565  23566  23567  23568  23569  \\\n",
       "month    ...                                                                    \n",
       "1997-01  ...      NaN    NaN    NaN    NaN    NaN    NaN    NaN    NaN    NaN   \n",
       "1997-02  ...      NaN    NaN    NaN    NaN    NaN    NaN    NaN    NaN    NaN   \n",
       "1997-03  ...      1.0    1.0    1.0    1.0    1.0    1.0    1.0    1.0    1.0   \n",
       "1997-04  ...      NaN    NaN    NaN    NaN    NaN    NaN    NaN    2.0    NaN   \n",
       "1997-05  ...      NaN    NaN    NaN    1.0    NaN    NaN    NaN    NaN    NaN   \n",
       "\n",
       "user_id  23570  \n",
       "month           \n",
       "1997-01    NaN  \n",
       "1997-02    NaN  \n",
       "1997-03    2.0  \n",
       "1997-04    NaN  \n",
       "1997-05    NaN  \n",
       "\n",
       "[5 rows x 23502 columns]"
      ]
     },
     "execution_count": 385,
     "metadata": {},
     "output_type": "execute_result"
    }
   ],
   "source": [
    "# 透视\n",
    "repeat_pivot = df_cleaned.pivot_table(index=['month'],columns='user_id',values='dt',aggfunc='count')\n",
    "repeat_pivot.head()"
   ]
  },
  {
   "cell_type": "code",
   "execution_count": 386,
   "metadata": {},
   "outputs": [
    {
     "data": {
      "text/plain": [
       "month\n",
       "1997-01    0.11\n",
       "1997-02    0.12\n",
       "1997-03    0.16\n",
       "1997-04    0.22\n",
       "1997-05    0.20\n",
       "1997-06    0.20\n",
       "1997-07    0.22\n",
       "1997-08    0.20\n",
       "1997-09    0.20\n",
       "1997-10    0.21\n",
       "1997-11    0.20\n",
       "1997-12    0.22\n",
       "1998-01    0.21\n",
       "1998-02    0.20\n",
       "1998-03    0.23\n",
       "1998-04    0.20\n",
       "1998-05    0.20\n",
       "1998-06    0.21\n",
       "Freq: M, dtype: float64"
      ]
     },
     "execution_count": 386,
     "metadata": {},
     "output_type": "execute_result"
    }
   ],
   "source": [
    "# axis=1轴上计算\n",
    "repeat_ratio = repeat_pivot.apply(lambda x:x[x>1].count()/(x.count()-x[x.isnull()].count()),axis=1)\n",
    "repeat_ratio"
   ]
  },
  {
   "cell_type": "markdown",
   "metadata": {},
   "source": [
    "- 复购率趋势图"
   ]
  },
  {
   "cell_type": "markdown",
   "metadata": {},
   "source": [
    "## 7、各月回购率"
   ]
  },
  {
   "cell_type": "code",
   "execution_count": 463,
   "metadata": {},
   "outputs": [
    {
     "data": {
      "text/plain": [
       "month\n",
       "1997-01    0.15\n",
       "1997-02    0.17\n",
       "1997-03    0.19\n",
       "1997-04    0.30\n",
       "1997-05    0.34\n",
       "1997-06    0.32\n",
       "1997-07    0.28\n",
       "1997-08    0.30\n",
       "1997-09    0.31\n",
       "1997-10    0.34\n",
       "1997-11    0.31\n",
       "1997-12    0.27\n",
       "1998-01    0.31\n",
       "1998-02    0.37\n",
       "1998-03    0.25\n",
       "1998-04    0.32\n",
       "1998-05    0.30\n",
       "Freq: M, dtype: float64"
      ]
     },
     "execution_count": 463,
     "metadata": {},
     "output_type": "execute_result"
    }
   ],
   "source": [
    "# temp = repeat_pivot['1997-01'].values + repeat_pivot['1997-02'].values\n",
    "# print(type(temp))\n",
    "# pd.Series(temp)\n",
    "# pd.Series(temp[0]).isnull()\n",
    "ratio_list = []\n",
    "for i in range(repeat_pivot.shape[0]-1):\n",
    "    temp = repeat_pivot.iloc[i,:] + repeat_pivot.iloc[1+i,:]\n",
    "    up_data = temp[temp!=np.nan].count()\n",
    "    down_data = repeat_pivot.iloc[i,:][repeat_pivot.iloc[i,:]!=np.nan].count()\n",
    "    ratio = up_data / down_data\n",
    "    ratio_list.append(ratio)\n",
    "#     print(type(up_data))\n",
    "#     print(temp[temp!=np.nan].count()/repeat_pivot.iloc[i,:][repeat_pivot.iloc[i,:]!=np.nan].count())\n",
    "    \n",
    "# print(ratio)\n",
    "back_ratio = pd.Series(ratio_list,index=repeat_ratio.index[:17])\n",
    "back_ratio"
   ]
  },
  {
   "cell_type": "code",
   "execution_count": 464,
   "metadata": {},
   "outputs": [
    {
     "data": {
      "text/plain": [
       "<matplotlib.axes._subplots.AxesSubplot at 0x29f41d30>"
      ]
     },
     "execution_count": 464,
     "metadata": {},
     "output_type": "execute_result"
    },
    {
     "data": {
      "image/png": "[encoded data removed]",
      "text/plain": [
       "<Figure size 864x432 with 1 Axes>"
      ]
     },
     "metadata": {
      "needs_background": "light"
     },
     "output_type": "display_data"
    }
   ],
   "source": [
    "back_ratio.plot(figsize=(12,6))"
   ]
  },
  {
   "cell_type": "code",
   "execution_count": null,
   "metadata": {},
   "outputs": [],
   "source": []
  }
 ],
 "metadata": {
  "kernelspec": {
   "display_name": "Python 3",
   "language": "python",
   "name": "python3"
  },
  "language_info": {
   "codemirror_mode": {
    "name": "ipython",
    "version": 3
   },
   "file_extension": ".py",
   "mimetype": "text/x-python",
   "name": "python",
   "nbconvert_exporter": "python",
   "pygments_lexer": "ipython3",
   "version": "3.5.4"
  }
 },
 "nbformat": 4,
 "nbformat_minor": 2
}
